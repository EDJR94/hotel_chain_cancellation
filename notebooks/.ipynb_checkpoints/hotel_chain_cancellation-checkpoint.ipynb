{
 "cells": [
  {
   "cell_type": "markdown",
   "id": "c4b53386",
   "metadata": {},
   "source": [
    "# 0.0 IMPORTS"
   ]
  },
  {
   "cell_type": "code",
   "execution_count": 67,
   "id": "3a6ce4ff",
   "metadata": {
    "ExecuteTime": {
     "end_time": "2023-05-12T18:54:36.860032Z",
     "start_time": "2023-05-12T18:54:36.853147Z"
    }
   },
   "outputs": [],
   "source": [
    "import pandas as pd\n",
    "import numpy as np\n",
    "import seaborn as sns\n",
    "import matplotlib.pyplot as plt\n",
    "import sweetviz as sv\n",
    "import webbrowser\n",
    "import inflection\n",
    "import pickle\n",
    "\n",
    "from scipy import stats\n",
    "from sklearn.preprocessing import LabelEncoder, MinMaxScaler, RobustScaler\n",
    "from sklearn import model_selection as ms\n",
    "from sklearn.ensemble import RandomForestClassifier, RandomForestRegressor, ExtraTreesClassifier\n",
    "from sklearn.neighbors import KNeighborsClassifier\n",
    "from sklearn import metrics as mt\n",
    "from sklearn.model_selection import RandomizedSearchCV \n",
    "from sklearn.linear_model import LogisticRegression\n",
    "from sklearn.tree import DecisionTreeClassifier\n",
    "from sklearn.dummy import DummyClassifier\n",
    "from sklearn.naive_bayes import GaussianNB\n",
    "from sklearn.svm import SVC\n",
    "from xgboost import XGBClassifier\n",
    "from boruta import BorutaPy"
   ]
  },
  {
   "cell_type": "markdown",
   "id": "a44efb9f",
   "metadata": {
    "heading_collapsed": true
   },
   "source": [
    "## 0.1 Loading Data"
   ]
  },
  {
   "cell_type": "code",
   "execution_count": 68,
   "id": "07a1e2a1",
   "metadata": {
    "ExecuteTime": {
     "end_time": "2023-05-12T12:10:35.207320Z",
     "start_time": "2023-05-12T12:10:35.192934Z"
    },
    "hidden": true
   },
   "outputs": [],
   "source": [
    "path = 'C:/Users/edils/repos/hotel_chain_cancellation/data/'"
   ]
  },
  {
   "cell_type": "code",
   "execution_count": 69,
   "id": "2da0d79a",
   "metadata": {
    "ExecuteTime": {
     "end_time": "2023-05-12T12:10:35.332197Z",
     "start_time": "2023-05-12T12:10:35.209363Z"
    },
    "hidden": true
   },
   "outputs": [],
   "source": [
    "df_raw = pd.read_csv(path + 'train.csv')"
   ]
  },
  {
   "cell_type": "code",
   "execution_count": 70,
   "id": "f22e673d",
   "metadata": {
    "ExecuteTime": {
     "end_time": "2023-05-12T12:10:35.364323Z",
     "start_time": "2023-05-12T12:10:35.334234Z"
    },
    "hidden": true
   },
   "outputs": [
    {
     "data": {
      "text/html": [
       "<div>\n",
       "<style scoped>\n",
       "    .dataframe tbody tr th:only-of-type {\n",
       "        vertical-align: middle;\n",
       "    }\n",
       "\n",
       "    .dataframe tbody tr th {\n",
       "        vertical-align: top;\n",
       "    }\n",
       "\n",
       "    .dataframe thead th {\n",
       "        text-align: right;\n",
       "    }\n",
       "</style>\n",
       "<table border=\"1\" class=\"dataframe\">\n",
       "  <thead>\n",
       "    <tr style=\"text-align: right;\">\n",
       "      <th></th>\n",
       "      <th>id</th>\n",
       "      <th>Classificação do hotel</th>\n",
       "      <th>Meses da reserva até o check-in</th>\n",
       "      <th>Número de pernoites reservadas</th>\n",
       "      <th>Número de hospedes</th>\n",
       "      <th>Regime de alimentação</th>\n",
       "      <th>Nacionalidade</th>\n",
       "      <th>Forma de Reserva</th>\n",
       "      <th>Já se hospedou anterioremente</th>\n",
       "      <th>Tipo do quarto reservado</th>\n",
       "      <th>Reserva feita por agência de turismo</th>\n",
       "      <th>Reserva feita por empresa</th>\n",
       "      <th>Reserva com Estacionamento</th>\n",
       "      <th>Reserva com Observações</th>\n",
       "      <th>Reserva Cancelada</th>\n",
       "    </tr>\n",
       "  </thead>\n",
       "  <tbody>\n",
       "    <tr>\n",
       "      <th>0</th>\n",
       "      <td>33571</td>\n",
       "      <td>5 estrelas</td>\n",
       "      <td>5</td>\n",
       "      <td>5</td>\n",
       "      <td>2.0</td>\n",
       "      <td>Café da manha e jantar</td>\n",
       "      <td>France</td>\n",
       "      <td>Agência</td>\n",
       "      <td>Não</td>\n",
       "      <td>Amethyst</td>\n",
       "      <td>Sim</td>\n",
       "      <td>Não</td>\n",
       "      <td>Sim</td>\n",
       "      <td>Nenhuma</td>\n",
       "      <td>0</td>\n",
       "    </tr>\n",
       "    <tr>\n",
       "      <th>1</th>\n",
       "      <td>82458</td>\n",
       "      <td>4 estrelas</td>\n",
       "      <td>167</td>\n",
       "      <td>3</td>\n",
       "      <td>2.0</td>\n",
       "      <td>Café da manha</td>\n",
       "      <td>Spain</td>\n",
       "      <td>Agência</td>\n",
       "      <td>Não</td>\n",
       "      <td>Amethyst</td>\n",
       "      <td>Sim</td>\n",
       "      <td>Não</td>\n",
       "      <td>Não</td>\n",
       "      <td>Nenhuma</td>\n",
       "      <td>1</td>\n",
       "    </tr>\n",
       "    <tr>\n",
       "      <th>2</th>\n",
       "      <td>94061</td>\n",
       "      <td>4 estrelas</td>\n",
       "      <td>4</td>\n",
       "      <td>3</td>\n",
       "      <td>2.0</td>\n",
       "      <td>Café da manha</td>\n",
       "      <td>Belgium</td>\n",
       "      <td>Agência</td>\n",
       "      <td>Não</td>\n",
       "      <td>Amethyst</td>\n",
       "      <td>Sim</td>\n",
       "      <td>Não</td>\n",
       "      <td>Não</td>\n",
       "      <td>1 a 3</td>\n",
       "      <td>0</td>\n",
       "    </tr>\n",
       "    <tr>\n",
       "      <th>3</th>\n",
       "      <td>75196</td>\n",
       "      <td>4 estrelas</td>\n",
       "      <td>13</td>\n",
       "      <td>2</td>\n",
       "      <td>2.0</td>\n",
       "      <td>Café da manha</td>\n",
       "      <td>Spain</td>\n",
       "      <td>Agência</td>\n",
       "      <td>Não</td>\n",
       "      <td>Amethyst</td>\n",
       "      <td>Sim</td>\n",
       "      <td>Não</td>\n",
       "      <td>Não</td>\n",
       "      <td>Nenhuma</td>\n",
       "      <td>1</td>\n",
       "    </tr>\n",
       "    <tr>\n",
       "      <th>4</th>\n",
       "      <td>82940</td>\n",
       "      <td>4 estrelas</td>\n",
       "      <td>4</td>\n",
       "      <td>2</td>\n",
       "      <td>2.0</td>\n",
       "      <td>Café da manha</td>\n",
       "      <td>Spain</td>\n",
       "      <td>Agência</td>\n",
       "      <td>Não</td>\n",
       "      <td>Amethyst</td>\n",
       "      <td>Sim</td>\n",
       "      <td>Não</td>\n",
       "      <td>Não</td>\n",
       "      <td>Nenhuma</td>\n",
       "      <td>1</td>\n",
       "    </tr>\n",
       "  </tbody>\n",
       "</table>\n",
       "</div>"
      ],
      "text/plain": [
       "      id Classificação do hotel  Meses da reserva até o check-in   \n",
       "0  33571             5 estrelas                                5  \\\n",
       "1  82458             4 estrelas                              167   \n",
       "2  94061             4 estrelas                                4   \n",
       "3  75196             4 estrelas                               13   \n",
       "4  82940             4 estrelas                                4   \n",
       "\n",
       "   Número de pernoites reservadas  Número de hospedes   Regime de alimentação   \n",
       "0                               5                 2.0  Café da manha e jantar  \\\n",
       "1                               3                 2.0           Café da manha   \n",
       "2                               3                 2.0           Café da manha   \n",
       "3                               2                 2.0           Café da manha   \n",
       "4                               2                 2.0           Café da manha   \n",
       "\n",
       "  Nacionalidade Forma de Reserva Já se hospedou anterioremente   \n",
       "0        France          Agência                           Não  \\\n",
       "1         Spain          Agência                           Não   \n",
       "2       Belgium          Agência                           Não   \n",
       "3         Spain          Agência                           Não   \n",
       "4         Spain          Agência                           Não   \n",
       "\n",
       "  Tipo do quarto reservado Reserva feita por agência de turismo   \n",
       "0                 Amethyst                                  Sim  \\\n",
       "1                 Amethyst                                  Sim   \n",
       "2                 Amethyst                                  Sim   \n",
       "3                 Amethyst                                  Sim   \n",
       "4                 Amethyst                                  Sim   \n",
       "\n",
       "  Reserva feita por empresa Reserva com Estacionamento   \n",
       "0                       Não                        Sim  \\\n",
       "1                       Não                        Não   \n",
       "2                       Não                        Não   \n",
       "3                       Não                        Não   \n",
       "4                       Não                        Não   \n",
       "\n",
       "  Reserva com Observações  Reserva Cancelada  \n",
       "0                 Nenhuma                  0  \n",
       "1                 Nenhuma                  1  \n",
       "2                   1 a 3                  0  \n",
       "3                 Nenhuma                  1  \n",
       "4                 Nenhuma                  1  "
      ]
     },
     "execution_count": 70,
     "metadata": {},
     "output_type": "execute_result"
    }
   ],
   "source": [
    "df_raw.head()"
   ]
  },
  {
   "cell_type": "markdown",
   "id": "491d5cb0",
   "metadata": {},
   "source": [
    "## 0.2 Helper Functions"
   ]
  },
  {
   "cell_type": "code",
   "execution_count": 71,
   "id": "2ee11898",
   "metadata": {
    "ExecuteTime": {
     "end_time": "2023-05-12T20:04:34.882303Z",
     "start_time": "2023-05-12T20:04:34.866218Z"
    }
   },
   "outputs": [],
   "source": [
    "def cramer_v( x, y ):\n",
    "  cm = pd.crosstab( x, y ).to_numpy()\n",
    "  n = cm.sum()\n",
    "  r, k = cm.shape\n",
    "\n",
    "  chi2 = stats.chi2_contingency( cm )[0]\n",
    "  chi2corr = max( 0, chi2 - (k-1)*(r-1)/(n-1) )\n",
    "\n",
    "  kcorr = k - (k-1)**2/(n-1)\n",
    "  rcorr = r - (r-1)**2/(n-1)\n",
    "  return np.sqrt( (chi2corr/n) / ( min( kcorr-1, rcorr-1 ) ) )\n",
    "\n",
    "def rename_columns(df1):\n",
    "    valores_dict = ['id',\n",
    "                'classificacao', \n",
    "                'meses_ate_checkin', \n",
    "                'pernoites', \n",
    "                'hospedes', \n",
    "                'regime_alimentacao',\n",
    "                'nacionalidade', \n",
    "                'forma_reserva', \n",
    "                'ja_hospedou',\n",
    "                'tipo_quarto',\n",
    "                'reserva_agencia',\n",
    "                'reserva_empresa',\n",
    "                'reserva_estacionamento',\n",
    "                'reserva_observacoes',\n",
    "                'reserva_cancelada']\n",
    "\n",
    "    chaves_dict = df1.columns\n",
    "    cols_new = dict(zip(chaves_dict,valores_dict))\n",
    "    df1 = df1.rename(columns=cols_new)\n",
    "    return df1\n",
    "\n",
    "def na_fill(df1):\n",
    "    df1['hospedes'] = df1['hospedes'].fillna(2)\n",
    "    df1['nacionalidade'] = df1['nacionalidade'].fillna('Spain')\n",
    "    return df1\n",
    "    \n",
    "def change_types(df1):\n",
    "    df1['hospedes'] = df1['hospedes'].astype('int64')\n",
    "    return df1\n",
    "    \n",
    "def data_transformation(df5):\n",
    "\n",
    "    #Robust Scaler nos que tem outliers\n",
    "    rb = RobustScaler()\n",
    "\n",
    "    df5['meses_ate_checkin'] = rb.fit_transform(df5['meses_ate_checkin'].values.reshape(-1,1))\n",
    "    #pickle.dump( rb, open ('C:/Users/edils/repos/hotel_chain_cancellation/src/features/meses_ate_checkin_scaler.pkl', 'wb'))\n",
    "    \n",
    "    df5['pernoites'] = rb.fit_transform(df5['pernoites'].values.reshape(-1,1))\n",
    "    #pickle.dump( rb, open ('C:/Users/edils/repos/hotel_chain_cancellation/src/features/pernoites_scaler.pkl', 'wb'))\n",
    "    \n",
    "    df5['hospedes'] = rb.fit_transform(df5['hospedes'].values.reshape(-1,1))\n",
    "    #pickle.dump( rb, open ('C:/Users/edils/repos/hotel_chain_cancellation/src/features/hospedes_scaler.pkl', 'wb'))\n",
    "    \n",
    "\n",
    "    #MinMax nos que tem distribuição normal\n",
    "    mms = MinMaxScaler()\n",
    "    df5['id'] = mms.fit_transform(df5['id'].values.reshape(-1,1))\n",
    "    #pickle.dump( mms, open ('C:/Users/edils/repos/hotel_chain_cancellation/src/features/id_scaler.pkl', 'wb'))\n",
    "    \n",
    "    return df5\n",
    "\n",
    "def data_encoding(df5):\n",
    "\n",
    "    #reserva_empresa - Label Encoder\n",
    "    df5['reserva_empresa'] = df5['reserva_empresa'].apply(lambda x: 1 if x == 'Sim' else 0)\n",
    "\n",
    "    #reserva_estacionamento - Label Encoder\n",
    "    df5['reserva_estacionamento'] = df5['reserva_estacionamento'].apply(lambda x: 1 if x == 'Sim' else 0)\n",
    "\n",
    "    #reserva_estacionamento - Label Encoder\n",
    "    df5['reserva_agencia'] = df5['reserva_agencia'].apply(lambda x: 1 if x == 'Sim' else 0)\n",
    "\n",
    "    #ja_hospedou - Label Encoder\n",
    "    df5['ja_hospedou'] = df5['ja_hospedou'].apply(lambda x: 1 if x == 'Sim' else 0)  \n",
    "    \n",
    "    df5['classificacao'] = df5['classificacao'].apply(lambda x: x[0])\n",
    "    df5['classificacao'] = df5['classificacao'].astype('int64')\n",
    "    \n",
    "    #One Hot Encoding - regime_alimentacao\n",
    "    df5 = pd.get_dummies(df5, prefix='regime_alimentacao', columns=['regime_alimentacao'], dtype=int)\n",
    "\n",
    "    #One Hot Encoding - reserva_observacoes\n",
    "    df5 = pd.get_dummies(df5, prefix='reserva_observacoes', columns=['reserva_observacoes'], dtype=int)\n",
    "\n",
    "    #One Hot Encoding - forma_reserva\n",
    "    df5 = pd.get_dummies(df5, prefix='forma_reserva', columns=['forma_reserva'], dtype=int)\n",
    "\n",
    "    df5 = df5.rename(columns={'regime_alimentacao_Café da manha':'cafe_manha',\n",
    "                       'regime_alimentacao_Café da manha e jantar':'cafe_jantar',\n",
    "                       'regime_alimentacao_Café da manha, almoco e jantar': 'cafe_almoco_jantar',\n",
    "                       'regime_alimentacao_Sem refeicao': 'sem_refeicao',\n",
    "                       'reserva_observacoes_1 a 3': 'obs_1_a_3',\n",
    "                       'reserva_observacoes_Mais de 3': 'obs_mais_3',\n",
    "                       'reserva_observacoes_Nenhuma': 'obs_nenhuma',\n",
    "                       'forma_reserva_Agência': 'forma_reserva_agencia',\n",
    "                       'forma_reserva_B2B': 'forma_reserva_b2b',\n",
    "                       'forma_reserva_Balcão': 'forma_reserva_balcao'})\n",
    "    #nacionalidade - Frequency Encoding\n",
    "    values_nacionalidade = df5['nacionalidade'].value_counts(normalize=True)\n",
    "    df5['nacionalidade'] = df5['nacionalidade'].map(values_nacionalidade)\n",
    "    #pickle.dump( values_nacionalidade, open ('C:/Users/edils/repos/hotel_chain_cancellation/src/features/nacionalidade_scaler.pkl', 'wb'))\n",
    "\n",
    "    #tipo_quarto - Frequency Encoding\n",
    "    values_quarto = df5['tipo_quarto'].value_counts(normalize=True)\n",
    "    df5['tipo_quarto'] = df5['tipo_quarto'].map(values_quarto)\n",
    "    #pickle.dump( values_quarto, open ('C:/Users/edils/repos/hotel_chain_cancellation/src/features/tipo_quarto_scaler.pkl', 'wb'))\n",
    "    \n",
    "    \n",
    "    return df5\n",
    "\n",
    "def model_performance(model, yhat, y):\n",
    "    f1_macro = mt.f1_score(y, yhat, average='macro')\n",
    "    score = mt.accuracy_score(y, yhat)\n",
    "    precision = mt.precision_score(y, yhat)\n",
    "    recall = mt.recall_score(y, yhat)\n",
    "    return (print(\n",
    "                  f\" {model} F1 Macro: {f1_macro*100:.2f}%\\n\"\n",
    "                  f\" {model} Acurácia: {score*100:.2f}%\\n\"\n",
    "                  f\" {model} Precision: {precision*100:.2f}%\\n\"\n",
    "                  f\" {model} Recall: {recall*100:.2f}%\"))"
   ]
  },
  {
   "cell_type": "markdown",
   "id": "013afadb",
   "metadata": {
    "heading_collapsed": true
   },
   "source": [
    "# 1.0 DATA DESCRIPTION"
   ]
  },
  {
   "cell_type": "code",
   "execution_count": 72,
   "id": "84df7802",
   "metadata": {
    "ExecuteTime": {
     "end_time": "2023-05-12T12:10:35.395274Z",
     "start_time": "2023-05-12T12:10:35.381488Z"
    },
    "hidden": true
   },
   "outputs": [],
   "source": [
    "df1 = df_raw.copy()"
   ]
  },
  {
   "cell_type": "code",
   "execution_count": 73,
   "id": "6c704d31",
   "metadata": {
    "ExecuteTime": {
     "end_time": "2023-05-12T12:10:35.410847Z",
     "start_time": "2023-05-12T12:10:35.396301Z"
    },
    "hidden": true
   },
   "outputs": [
    {
     "data": {
      "text/html": [
       "<div>\n",
       "<style scoped>\n",
       "    .dataframe tbody tr th:only-of-type {\n",
       "        vertical-align: middle;\n",
       "    }\n",
       "\n",
       "    .dataframe tbody tr th {\n",
       "        vertical-align: top;\n",
       "    }\n",
       "\n",
       "    .dataframe thead th {\n",
       "        text-align: right;\n",
       "    }\n",
       "</style>\n",
       "<table border=\"1\" class=\"dataframe\">\n",
       "  <thead>\n",
       "    <tr style=\"text-align: right;\">\n",
       "      <th></th>\n",
       "      <th>id</th>\n",
       "      <th>Classificação do hotel</th>\n",
       "      <th>Meses da reserva até o check-in</th>\n",
       "      <th>Número de pernoites reservadas</th>\n",
       "      <th>Número de hospedes</th>\n",
       "      <th>Regime de alimentação</th>\n",
       "      <th>Nacionalidade</th>\n",
       "      <th>Forma de Reserva</th>\n",
       "      <th>Já se hospedou anterioremente</th>\n",
       "      <th>Tipo do quarto reservado</th>\n",
       "      <th>Reserva feita por agência de turismo</th>\n",
       "      <th>Reserva feita por empresa</th>\n",
       "      <th>Reserva com Estacionamento</th>\n",
       "      <th>Reserva com Observações</th>\n",
       "      <th>Reserva Cancelada</th>\n",
       "    </tr>\n",
       "  </thead>\n",
       "  <tbody>\n",
       "    <tr>\n",
       "      <th>0</th>\n",
       "      <td>33571</td>\n",
       "      <td>5 estrelas</td>\n",
       "      <td>5</td>\n",
       "      <td>5</td>\n",
       "      <td>2.0</td>\n",
       "      <td>Café da manha e jantar</td>\n",
       "      <td>France</td>\n",
       "      <td>Agência</td>\n",
       "      <td>Não</td>\n",
       "      <td>Amethyst</td>\n",
       "      <td>Sim</td>\n",
       "      <td>Não</td>\n",
       "      <td>Sim</td>\n",
       "      <td>Nenhuma</td>\n",
       "      <td>0</td>\n",
       "    </tr>\n",
       "    <tr>\n",
       "      <th>1</th>\n",
       "      <td>82458</td>\n",
       "      <td>4 estrelas</td>\n",
       "      <td>167</td>\n",
       "      <td>3</td>\n",
       "      <td>2.0</td>\n",
       "      <td>Café da manha</td>\n",
       "      <td>Spain</td>\n",
       "      <td>Agência</td>\n",
       "      <td>Não</td>\n",
       "      <td>Amethyst</td>\n",
       "      <td>Sim</td>\n",
       "      <td>Não</td>\n",
       "      <td>Não</td>\n",
       "      <td>Nenhuma</td>\n",
       "      <td>1</td>\n",
       "    </tr>\n",
       "    <tr>\n",
       "      <th>2</th>\n",
       "      <td>94061</td>\n",
       "      <td>4 estrelas</td>\n",
       "      <td>4</td>\n",
       "      <td>3</td>\n",
       "      <td>2.0</td>\n",
       "      <td>Café da manha</td>\n",
       "      <td>Belgium</td>\n",
       "      <td>Agência</td>\n",
       "      <td>Não</td>\n",
       "      <td>Amethyst</td>\n",
       "      <td>Sim</td>\n",
       "      <td>Não</td>\n",
       "      <td>Não</td>\n",
       "      <td>1 a 3</td>\n",
       "      <td>0</td>\n",
       "    </tr>\n",
       "    <tr>\n",
       "      <th>3</th>\n",
       "      <td>75196</td>\n",
       "      <td>4 estrelas</td>\n",
       "      <td>13</td>\n",
       "      <td>2</td>\n",
       "      <td>2.0</td>\n",
       "      <td>Café da manha</td>\n",
       "      <td>Spain</td>\n",
       "      <td>Agência</td>\n",
       "      <td>Não</td>\n",
       "      <td>Amethyst</td>\n",
       "      <td>Sim</td>\n",
       "      <td>Não</td>\n",
       "      <td>Não</td>\n",
       "      <td>Nenhuma</td>\n",
       "      <td>1</td>\n",
       "    </tr>\n",
       "    <tr>\n",
       "      <th>4</th>\n",
       "      <td>82940</td>\n",
       "      <td>4 estrelas</td>\n",
       "      <td>4</td>\n",
       "      <td>2</td>\n",
       "      <td>2.0</td>\n",
       "      <td>Café da manha</td>\n",
       "      <td>Spain</td>\n",
       "      <td>Agência</td>\n",
       "      <td>Não</td>\n",
       "      <td>Amethyst</td>\n",
       "      <td>Sim</td>\n",
       "      <td>Não</td>\n",
       "      <td>Não</td>\n",
       "      <td>Nenhuma</td>\n",
       "      <td>1</td>\n",
       "    </tr>\n",
       "  </tbody>\n",
       "</table>\n",
       "</div>"
      ],
      "text/plain": [
       "      id Classificação do hotel  Meses da reserva até o check-in   \n",
       "0  33571             5 estrelas                                5  \\\n",
       "1  82458             4 estrelas                              167   \n",
       "2  94061             4 estrelas                                4   \n",
       "3  75196             4 estrelas                               13   \n",
       "4  82940             4 estrelas                                4   \n",
       "\n",
       "   Número de pernoites reservadas  Número de hospedes   Regime de alimentação   \n",
       "0                               5                 2.0  Café da manha e jantar  \\\n",
       "1                               3                 2.0           Café da manha   \n",
       "2                               3                 2.0           Café da manha   \n",
       "3                               2                 2.0           Café da manha   \n",
       "4                               2                 2.0           Café da manha   \n",
       "\n",
       "  Nacionalidade Forma de Reserva Já se hospedou anterioremente   \n",
       "0        France          Agência                           Não  \\\n",
       "1         Spain          Agência                           Não   \n",
       "2       Belgium          Agência                           Não   \n",
       "3         Spain          Agência                           Não   \n",
       "4         Spain          Agência                           Não   \n",
       "\n",
       "  Tipo do quarto reservado Reserva feita por agência de turismo   \n",
       "0                 Amethyst                                  Sim  \\\n",
       "1                 Amethyst                                  Sim   \n",
       "2                 Amethyst                                  Sim   \n",
       "3                 Amethyst                                  Sim   \n",
       "4                 Amethyst                                  Sim   \n",
       "\n",
       "  Reserva feita por empresa Reserva com Estacionamento   \n",
       "0                       Não                        Sim  \\\n",
       "1                       Não                        Não   \n",
       "2                       Não                        Não   \n",
       "3                       Não                        Não   \n",
       "4                       Não                        Não   \n",
       "\n",
       "  Reserva com Observações  Reserva Cancelada  \n",
       "0                 Nenhuma                  0  \n",
       "1                 Nenhuma                  1  \n",
       "2                   1 a 3                  0  \n",
       "3                 Nenhuma                  1  \n",
       "4                 Nenhuma                  1  "
      ]
     },
     "execution_count": 73,
     "metadata": {},
     "output_type": "execute_result"
    }
   ],
   "source": [
    "df1.head()"
   ]
  },
  {
   "cell_type": "markdown",
   "id": "eed3a4b9",
   "metadata": {
    "hidden": true
   },
   "source": [
    "## 1.1 Rename Columns"
   ]
  },
  {
   "cell_type": "code",
   "execution_count": 74,
   "id": "a35d16fb",
   "metadata": {
    "ExecuteTime": {
     "end_time": "2023-05-12T19:37:13.664861Z",
     "start_time": "2023-05-12T19:37:13.628185Z"
    },
    "hidden": true
   },
   "outputs": [],
   "source": [
    "df1 = rename_columns(df1)"
   ]
  },
  {
   "cell_type": "markdown",
   "id": "febd847a",
   "metadata": {
    "hidden": true
   },
   "source": [
    "## 1.2 Data Dimension"
   ]
  },
  {
   "cell_type": "code",
   "execution_count": 75,
   "id": "7d6ca800",
   "metadata": {
    "ExecuteTime": {
     "end_time": "2023-05-12T12:10:35.457221Z",
     "start_time": "2023-05-12T12:10:35.445580Z"
    },
    "hidden": true
   },
   "outputs": [
    {
     "data": {
      "text/plain": [
       "(72159, 15)"
      ]
     },
     "execution_count": 75,
     "metadata": {},
     "output_type": "execute_result"
    }
   ],
   "source": [
    "df1.shape"
   ]
  },
  {
   "cell_type": "markdown",
   "id": "d1632520",
   "metadata": {
    "hidden": true
   },
   "source": [
    "## 1.4 Check NA"
   ]
  },
  {
   "cell_type": "code",
   "execution_count": 76,
   "id": "9a0fbad7",
   "metadata": {
    "ExecuteTime": {
     "end_time": "2023-05-12T12:10:35.534351Z",
     "start_time": "2023-05-12T12:10:35.458747Z"
    },
    "hidden": true
   },
   "outputs": [
    {
     "data": {
      "text/plain": [
       "id                           0\n",
       "classificacao                0\n",
       "meses_ate_checkin            0\n",
       "pernoites                    0\n",
       "hospedes                     3\n",
       "regime_alimentacao           0\n",
       "nacionalidade             1093\n",
       "forma_reserva                0\n",
       "ja_hospedou                  0\n",
       "tipo_quarto                  0\n",
       "reserva_agencia              0\n",
       "reserva_empresa              0\n",
       "reserva_estacionamento       0\n",
       "reserva_observacoes          0\n",
       "reserva_cancelada            0\n",
       "dtype: int64"
      ]
     },
     "execution_count": 76,
     "metadata": {},
     "output_type": "execute_result"
    }
   ],
   "source": [
    "df1.isna().sum()"
   ]
  },
  {
   "cell_type": "code",
   "execution_count": 77,
   "id": "4dd08112",
   "metadata": {
    "ExecuteTime": {
     "end_time": "2023-05-12T19:40:39.981816Z",
     "start_time": "2023-05-12T19:40:39.972558Z"
    },
    "hidden": true
   },
   "outputs": [],
   "source": [
    "df1 = na_fill(df1)"
   ]
  },
  {
   "cell_type": "markdown",
   "id": "d4804d00",
   "metadata": {
    "hidden": true
   },
   "source": [
    "## 1.4 Data Types"
   ]
  },
  {
   "cell_type": "code",
   "execution_count": 78,
   "id": "baab0b04",
   "metadata": {
    "ExecuteTime": {
     "end_time": "2023-05-12T12:10:35.580983Z",
     "start_time": "2023-05-12T12:10:35.567488Z"
    },
    "hidden": true
   },
   "outputs": [
    {
     "data": {
      "text/plain": [
       "id                          int64\n",
       "classificacao              object\n",
       "meses_ate_checkin           int64\n",
       "pernoites                   int64\n",
       "hospedes                  float64\n",
       "regime_alimentacao         object\n",
       "nacionalidade              object\n",
       "forma_reserva              object\n",
       "ja_hospedou                object\n",
       "tipo_quarto                object\n",
       "reserva_agencia            object\n",
       "reserva_empresa            object\n",
       "reserva_estacionamento     object\n",
       "reserva_observacoes        object\n",
       "reserva_cancelada           int64\n",
       "dtype: object"
      ]
     },
     "execution_count": 78,
     "metadata": {},
     "output_type": "execute_result"
    }
   ],
   "source": [
    "df1.dtypes"
   ]
  },
  {
   "cell_type": "code",
   "execution_count": 79,
   "id": "53a86aee",
   "metadata": {
    "ExecuteTime": {
     "end_time": "2023-05-12T12:10:35.595786Z",
     "start_time": "2023-05-12T12:10:35.582999Z"
    },
    "hidden": true
   },
   "outputs": [],
   "source": [
    "df1 = change_types(df1)"
   ]
  },
  {
   "cell_type": "markdown",
   "id": "0e01701f",
   "metadata": {
    "hidden": true
   },
   "source": [
    "## 1.5 Descriptive Statistics"
   ]
  },
  {
   "cell_type": "markdown",
   "id": "c446ba3c",
   "metadata": {
    "hidden": true
   },
   "source": [
    "### 1.5.1 Numerical Attributes"
   ]
  },
  {
   "cell_type": "code",
   "execution_count": 80,
   "id": "a18ab384",
   "metadata": {
    "ExecuteTime": {
     "end_time": "2023-05-12T12:10:35.611415Z",
     "start_time": "2023-05-12T12:10:35.597289Z"
    },
    "hidden": true
   },
   "outputs": [],
   "source": [
    "numerical_attributes = df1.select_dtypes(include=['float64','int64'])\n",
    "categorical_attributes = df1.select_dtypes(exclude=['float64','int64'])"
   ]
  },
  {
   "cell_type": "code",
   "execution_count": 81,
   "id": "aab105eb",
   "metadata": {
    "ExecuteTime": {
     "end_time": "2023-05-12T12:10:35.705162Z",
     "start_time": "2023-05-12T12:10:35.612435Z"
    },
    "hidden": true
   },
   "outputs": [
    {
     "data": {
      "text/html": [
       "<div>\n",
       "<style scoped>\n",
       "    .dataframe tbody tr th:only-of-type {\n",
       "        vertical-align: middle;\n",
       "    }\n",
       "\n",
       "    .dataframe tbody tr th {\n",
       "        vertical-align: top;\n",
       "    }\n",
       "\n",
       "    .dataframe thead th {\n",
       "        text-align: right;\n",
       "    }\n",
       "</style>\n",
       "<table border=\"1\" class=\"dataframe\">\n",
       "  <thead>\n",
       "    <tr style=\"text-align: right;\">\n",
       "      <th></th>\n",
       "      <th>mean</th>\n",
       "      <th>median</th>\n",
       "      <th>std</th>\n",
       "      <th>min</th>\n",
       "      <th>max</th>\n",
       "      <th>range</th>\n",
       "      <th>skew</th>\n",
       "      <th>kurtosis</th>\n",
       "    </tr>\n",
       "  </thead>\n",
       "  <tbody>\n",
       "    <tr>\n",
       "      <th>id</th>\n",
       "      <td>60093.687787</td>\n",
       "      <td>60080.0</td>\n",
       "      <td>34726.028006</td>\n",
       "      <td>1.0</td>\n",
       "      <td>120265.0</td>\n",
       "      <td>120264.0</td>\n",
       "      <td>0.000051</td>\n",
       "      <td>-1.203219</td>\n",
       "    </tr>\n",
       "    <tr>\n",
       "      <th>meses_ate_checkin</th>\n",
       "      <td>7.145928</td>\n",
       "      <td>3.0</td>\n",
       "      <td>25.852330</td>\n",
       "      <td>1.0</td>\n",
       "      <td>311.0</td>\n",
       "      <td>310.0</td>\n",
       "      <td>8.667253</td>\n",
       "      <td>79.725538</td>\n",
       "    </tr>\n",
       "    <tr>\n",
       "      <th>pernoites</th>\n",
       "      <td>15.824152</td>\n",
       "      <td>3.0</td>\n",
       "      <td>98.248479</td>\n",
       "      <td>0.0</td>\n",
       "      <td>1172.0</td>\n",
       "      <td>1172.0</td>\n",
       "      <td>8.765012</td>\n",
       "      <td>80.204284</td>\n",
       "    </tr>\n",
       "    <tr>\n",
       "      <th>hospedes</th>\n",
       "      <td>14.258263</td>\n",
       "      <td>2.0</td>\n",
       "      <td>96.444195</td>\n",
       "      <td>0.0</td>\n",
       "      <td>1153.0</td>\n",
       "      <td>1153.0</td>\n",
       "      <td>8.723448</td>\n",
       "      <td>79.668050</td>\n",
       "    </tr>\n",
       "    <tr>\n",
       "      <th>reserva_cancelada</th>\n",
       "      <td>0.370418</td>\n",
       "      <td>0.0</td>\n",
       "      <td>0.482920</td>\n",
       "      <td>0.0</td>\n",
       "      <td>1.0</td>\n",
       "      <td>1.0</td>\n",
       "      <td>0.536675</td>\n",
       "      <td>-1.712028</td>\n",
       "    </tr>\n",
       "  </tbody>\n",
       "</table>\n",
       "</div>"
      ],
      "text/plain": [
       "                           mean   median           std  min       max   \n",
       "id                 60093.687787  60080.0  34726.028006  1.0  120265.0  \\\n",
       "meses_ate_checkin      7.145928      3.0     25.852330  1.0     311.0   \n",
       "pernoites             15.824152      3.0     98.248479  0.0    1172.0   \n",
       "hospedes              14.258263      2.0     96.444195  0.0    1153.0   \n",
       "reserva_cancelada      0.370418      0.0      0.482920  0.0       1.0   \n",
       "\n",
       "                      range      skew   kurtosis  \n",
       "id                 120264.0  0.000051  -1.203219  \n",
       "meses_ate_checkin     310.0  8.667253  79.725538  \n",
       "pernoites            1172.0  8.765012  80.204284  \n",
       "hospedes             1153.0  8.723448  79.668050  \n",
       "reserva_cancelada       1.0  0.536675  -1.712028  "
      ]
     },
     "execution_count": 81,
     "metadata": {},
     "output_type": "execute_result"
    }
   ],
   "source": [
    "#mean, median, std, min, max, range, skew, kurtosis\n",
    "dispersion = numerical_attributes.agg(['mean',\n",
    "                          'median',\n",
    "                          'std', \n",
    "                          'min', \n",
    "                          'max', \n",
    "                          lambda x: max(x)-min(x), \n",
    "                          'skew', \n",
    "                          'kurtosis']).T\n",
    "dispersion = dispersion.rename(columns={'<lambda>':'range'})\n",
    "dispersion"
   ]
  },
  {
   "cell_type": "markdown",
   "id": "044f76b0",
   "metadata": {
    "hidden": true
   },
   "source": [
    "### 1.5.1 Categorical Attributes"
   ]
  },
  {
   "cell_type": "code",
   "execution_count": null,
   "id": "57ec67c6",
   "metadata": {
    "hidden": true
   },
   "outputs": [],
   "source": []
  },
  {
   "cell_type": "markdown",
   "id": "57b70db1",
   "metadata": {
    "heading_collapsed": true
   },
   "source": [
    "# 2.0 FEATURE ENGINEERING"
   ]
  },
  {
   "cell_type": "code",
   "execution_count": 82,
   "id": "0f5dec1c",
   "metadata": {
    "ExecuteTime": {
     "end_time": "2023-05-12T12:10:35.720687Z",
     "start_time": "2023-05-12T12:10:35.707323Z"
    },
    "hidden": true
   },
   "outputs": [],
   "source": [
    "df2 = df1.copy()"
   ]
  },
  {
   "cell_type": "code",
   "execution_count": 83,
   "id": "184a9983",
   "metadata": {
    "ExecuteTime": {
     "end_time": "2023-05-12T12:10:35.736369Z",
     "start_time": "2023-05-12T12:10:35.722693Z"
    },
    "hidden": true
   },
   "outputs": [
    {
     "data": {
      "text/html": [
       "<div>\n",
       "<style scoped>\n",
       "    .dataframe tbody tr th:only-of-type {\n",
       "        vertical-align: middle;\n",
       "    }\n",
       "\n",
       "    .dataframe tbody tr th {\n",
       "        vertical-align: top;\n",
       "    }\n",
       "\n",
       "    .dataframe thead th {\n",
       "        text-align: right;\n",
       "    }\n",
       "</style>\n",
       "<table border=\"1\" class=\"dataframe\">\n",
       "  <thead>\n",
       "    <tr style=\"text-align: right;\">\n",
       "      <th></th>\n",
       "      <th>id</th>\n",
       "      <th>classificacao</th>\n",
       "      <th>meses_ate_checkin</th>\n",
       "      <th>pernoites</th>\n",
       "      <th>hospedes</th>\n",
       "      <th>regime_alimentacao</th>\n",
       "      <th>nacionalidade</th>\n",
       "      <th>forma_reserva</th>\n",
       "      <th>ja_hospedou</th>\n",
       "      <th>tipo_quarto</th>\n",
       "      <th>reserva_agencia</th>\n",
       "      <th>reserva_empresa</th>\n",
       "      <th>reserva_estacionamento</th>\n",
       "      <th>reserva_observacoes</th>\n",
       "      <th>reserva_cancelada</th>\n",
       "    </tr>\n",
       "  </thead>\n",
       "  <tbody>\n",
       "    <tr>\n",
       "      <th>0</th>\n",
       "      <td>33571</td>\n",
       "      <td>5 estrelas</td>\n",
       "      <td>5</td>\n",
       "      <td>5</td>\n",
       "      <td>2</td>\n",
       "      <td>Café da manha e jantar</td>\n",
       "      <td>France</td>\n",
       "      <td>Agência</td>\n",
       "      <td>Não</td>\n",
       "      <td>Amethyst</td>\n",
       "      <td>Sim</td>\n",
       "      <td>Não</td>\n",
       "      <td>Sim</td>\n",
       "      <td>Nenhuma</td>\n",
       "      <td>0</td>\n",
       "    </tr>\n",
       "    <tr>\n",
       "      <th>1</th>\n",
       "      <td>82458</td>\n",
       "      <td>4 estrelas</td>\n",
       "      <td>167</td>\n",
       "      <td>3</td>\n",
       "      <td>2</td>\n",
       "      <td>Café da manha</td>\n",
       "      <td>Spain</td>\n",
       "      <td>Agência</td>\n",
       "      <td>Não</td>\n",
       "      <td>Amethyst</td>\n",
       "      <td>Sim</td>\n",
       "      <td>Não</td>\n",
       "      <td>Não</td>\n",
       "      <td>Nenhuma</td>\n",
       "      <td>1</td>\n",
       "    </tr>\n",
       "    <tr>\n",
       "      <th>2</th>\n",
       "      <td>94061</td>\n",
       "      <td>4 estrelas</td>\n",
       "      <td>4</td>\n",
       "      <td>3</td>\n",
       "      <td>2</td>\n",
       "      <td>Café da manha</td>\n",
       "      <td>Belgium</td>\n",
       "      <td>Agência</td>\n",
       "      <td>Não</td>\n",
       "      <td>Amethyst</td>\n",
       "      <td>Sim</td>\n",
       "      <td>Não</td>\n",
       "      <td>Não</td>\n",
       "      <td>1 a 3</td>\n",
       "      <td>0</td>\n",
       "    </tr>\n",
       "    <tr>\n",
       "      <th>3</th>\n",
       "      <td>75196</td>\n",
       "      <td>4 estrelas</td>\n",
       "      <td>13</td>\n",
       "      <td>2</td>\n",
       "      <td>2</td>\n",
       "      <td>Café da manha</td>\n",
       "      <td>Spain</td>\n",
       "      <td>Agência</td>\n",
       "      <td>Não</td>\n",
       "      <td>Amethyst</td>\n",
       "      <td>Sim</td>\n",
       "      <td>Não</td>\n",
       "      <td>Não</td>\n",
       "      <td>Nenhuma</td>\n",
       "      <td>1</td>\n",
       "    </tr>\n",
       "    <tr>\n",
       "      <th>4</th>\n",
       "      <td>82940</td>\n",
       "      <td>4 estrelas</td>\n",
       "      <td>4</td>\n",
       "      <td>2</td>\n",
       "      <td>2</td>\n",
       "      <td>Café da manha</td>\n",
       "      <td>Spain</td>\n",
       "      <td>Agência</td>\n",
       "      <td>Não</td>\n",
       "      <td>Amethyst</td>\n",
       "      <td>Sim</td>\n",
       "      <td>Não</td>\n",
       "      <td>Não</td>\n",
       "      <td>Nenhuma</td>\n",
       "      <td>1</td>\n",
       "    </tr>\n",
       "  </tbody>\n",
       "</table>\n",
       "</div>"
      ],
      "text/plain": [
       "      id classificacao  meses_ate_checkin  pernoites  hospedes   \n",
       "0  33571    5 estrelas                  5          5         2  \\\n",
       "1  82458    4 estrelas                167          3         2   \n",
       "2  94061    4 estrelas                  4          3         2   \n",
       "3  75196    4 estrelas                 13          2         2   \n",
       "4  82940    4 estrelas                  4          2         2   \n",
       "\n",
       "       regime_alimentacao nacionalidade forma_reserva ja_hospedou tipo_quarto   \n",
       "0  Café da manha e jantar        France       Agência         Não    Amethyst  \\\n",
       "1           Café da manha         Spain       Agência         Não    Amethyst   \n",
       "2           Café da manha       Belgium       Agência         Não    Amethyst   \n",
       "3           Café da manha         Spain       Agência         Não    Amethyst   \n",
       "4           Café da manha         Spain       Agência         Não    Amethyst   \n",
       "\n",
       "  reserva_agencia reserva_empresa reserva_estacionamento reserva_observacoes   \n",
       "0             Sim             Não                    Sim             Nenhuma  \\\n",
       "1             Sim             Não                    Não             Nenhuma   \n",
       "2             Sim             Não                    Não               1 a 3   \n",
       "3             Sim             Não                    Não             Nenhuma   \n",
       "4             Sim             Não                    Não             Nenhuma   \n",
       "\n",
       "   reserva_cancelada  \n",
       "0                  0  \n",
       "1                  1  \n",
       "2                  0  \n",
       "3                  1  \n",
       "4                  1  "
      ]
     },
     "execution_count": 83,
     "metadata": {},
     "output_type": "execute_result"
    }
   ],
   "source": [
    "df2.head()"
   ]
  },
  {
   "cell_type": "code",
   "execution_count": null,
   "id": "6d69f3c0",
   "metadata": {
    "hidden": true
   },
   "outputs": [],
   "source": []
  },
  {
   "cell_type": "markdown",
   "id": "ddda32d8",
   "metadata": {
    "heading_collapsed": true
   },
   "source": [
    "# 3.0 VARIABLE FILTERING"
   ]
  },
  {
   "cell_type": "code",
   "execution_count": 84,
   "id": "0f1747f3",
   "metadata": {
    "ExecuteTime": {
     "end_time": "2023-05-12T12:10:35.751265Z",
     "start_time": "2023-05-12T12:10:35.738430Z"
    },
    "hidden": true
   },
   "outputs": [],
   "source": [
    "df3 = df2.copy()"
   ]
  },
  {
   "cell_type": "markdown",
   "id": "6de5cbc7",
   "metadata": {
    "heading_collapsed": true
   },
   "source": [
    "# 4.0 EDA"
   ]
  },
  {
   "cell_type": "code",
   "execution_count": 85,
   "id": "76987f2d",
   "metadata": {
    "ExecuteTime": {
     "end_time": "2023-05-12T12:10:35.766809Z",
     "start_time": "2023-05-12T12:10:35.752769Z"
    },
    "hidden": true
   },
   "outputs": [],
   "source": [
    "df4 = df3.copy()"
   ]
  },
  {
   "cell_type": "code",
   "execution_count": 86,
   "id": "eaacbdd5",
   "metadata": {
    "ExecuteTime": {
     "end_time": "2023-05-12T12:10:35.782108Z",
     "start_time": "2023-05-12T12:10:35.768342Z"
    },
    "hidden": true
   },
   "outputs": [
    {
     "data": {
      "text/html": [
       "<div>\n",
       "<style scoped>\n",
       "    .dataframe tbody tr th:only-of-type {\n",
       "        vertical-align: middle;\n",
       "    }\n",
       "\n",
       "    .dataframe tbody tr th {\n",
       "        vertical-align: top;\n",
       "    }\n",
       "\n",
       "    .dataframe thead th {\n",
       "        text-align: right;\n",
       "    }\n",
       "</style>\n",
       "<table border=\"1\" class=\"dataframe\">\n",
       "  <thead>\n",
       "    <tr style=\"text-align: right;\">\n",
       "      <th></th>\n",
       "      <th>id</th>\n",
       "      <th>classificacao</th>\n",
       "      <th>meses_ate_checkin</th>\n",
       "      <th>pernoites</th>\n",
       "      <th>hospedes</th>\n",
       "      <th>regime_alimentacao</th>\n",
       "      <th>nacionalidade</th>\n",
       "      <th>forma_reserva</th>\n",
       "      <th>ja_hospedou</th>\n",
       "      <th>tipo_quarto</th>\n",
       "      <th>reserva_agencia</th>\n",
       "      <th>reserva_empresa</th>\n",
       "      <th>reserva_estacionamento</th>\n",
       "      <th>reserva_observacoes</th>\n",
       "      <th>reserva_cancelada</th>\n",
       "    </tr>\n",
       "  </thead>\n",
       "  <tbody>\n",
       "    <tr>\n",
       "      <th>0</th>\n",
       "      <td>33571</td>\n",
       "      <td>5 estrelas</td>\n",
       "      <td>5</td>\n",
       "      <td>5</td>\n",
       "      <td>2</td>\n",
       "      <td>Café da manha e jantar</td>\n",
       "      <td>France</td>\n",
       "      <td>Agência</td>\n",
       "      <td>Não</td>\n",
       "      <td>Amethyst</td>\n",
       "      <td>Sim</td>\n",
       "      <td>Não</td>\n",
       "      <td>Sim</td>\n",
       "      <td>Nenhuma</td>\n",
       "      <td>0</td>\n",
       "    </tr>\n",
       "    <tr>\n",
       "      <th>1</th>\n",
       "      <td>82458</td>\n",
       "      <td>4 estrelas</td>\n",
       "      <td>167</td>\n",
       "      <td>3</td>\n",
       "      <td>2</td>\n",
       "      <td>Café da manha</td>\n",
       "      <td>Spain</td>\n",
       "      <td>Agência</td>\n",
       "      <td>Não</td>\n",
       "      <td>Amethyst</td>\n",
       "      <td>Sim</td>\n",
       "      <td>Não</td>\n",
       "      <td>Não</td>\n",
       "      <td>Nenhuma</td>\n",
       "      <td>1</td>\n",
       "    </tr>\n",
       "    <tr>\n",
       "      <th>2</th>\n",
       "      <td>94061</td>\n",
       "      <td>4 estrelas</td>\n",
       "      <td>4</td>\n",
       "      <td>3</td>\n",
       "      <td>2</td>\n",
       "      <td>Café da manha</td>\n",
       "      <td>Belgium</td>\n",
       "      <td>Agência</td>\n",
       "      <td>Não</td>\n",
       "      <td>Amethyst</td>\n",
       "      <td>Sim</td>\n",
       "      <td>Não</td>\n",
       "      <td>Não</td>\n",
       "      <td>1 a 3</td>\n",
       "      <td>0</td>\n",
       "    </tr>\n",
       "    <tr>\n",
       "      <th>3</th>\n",
       "      <td>75196</td>\n",
       "      <td>4 estrelas</td>\n",
       "      <td>13</td>\n",
       "      <td>2</td>\n",
       "      <td>2</td>\n",
       "      <td>Café da manha</td>\n",
       "      <td>Spain</td>\n",
       "      <td>Agência</td>\n",
       "      <td>Não</td>\n",
       "      <td>Amethyst</td>\n",
       "      <td>Sim</td>\n",
       "      <td>Não</td>\n",
       "      <td>Não</td>\n",
       "      <td>Nenhuma</td>\n",
       "      <td>1</td>\n",
       "    </tr>\n",
       "    <tr>\n",
       "      <th>4</th>\n",
       "      <td>82940</td>\n",
       "      <td>4 estrelas</td>\n",
       "      <td>4</td>\n",
       "      <td>2</td>\n",
       "      <td>2</td>\n",
       "      <td>Café da manha</td>\n",
       "      <td>Spain</td>\n",
       "      <td>Agência</td>\n",
       "      <td>Não</td>\n",
       "      <td>Amethyst</td>\n",
       "      <td>Sim</td>\n",
       "      <td>Não</td>\n",
       "      <td>Não</td>\n",
       "      <td>Nenhuma</td>\n",
       "      <td>1</td>\n",
       "    </tr>\n",
       "  </tbody>\n",
       "</table>\n",
       "</div>"
      ],
      "text/plain": [
       "      id classificacao  meses_ate_checkin  pernoites  hospedes   \n",
       "0  33571    5 estrelas                  5          5         2  \\\n",
       "1  82458    4 estrelas                167          3         2   \n",
       "2  94061    4 estrelas                  4          3         2   \n",
       "3  75196    4 estrelas                 13          2         2   \n",
       "4  82940    4 estrelas                  4          2         2   \n",
       "\n",
       "       regime_alimentacao nacionalidade forma_reserva ja_hospedou tipo_quarto   \n",
       "0  Café da manha e jantar        France       Agência         Não    Amethyst  \\\n",
       "1           Café da manha         Spain       Agência         Não    Amethyst   \n",
       "2           Café da manha       Belgium       Agência         Não    Amethyst   \n",
       "3           Café da manha         Spain       Agência         Não    Amethyst   \n",
       "4           Café da manha         Spain       Agência         Não    Amethyst   \n",
       "\n",
       "  reserva_agencia reserva_empresa reserva_estacionamento reserva_observacoes   \n",
       "0             Sim             Não                    Sim             Nenhuma  \\\n",
       "1             Sim             Não                    Não             Nenhuma   \n",
       "2             Sim             Não                    Não               1 a 3   \n",
       "3             Sim             Não                    Não             Nenhuma   \n",
       "4             Sim             Não                    Não             Nenhuma   \n",
       "\n",
       "   reserva_cancelada  \n",
       "0                  0  \n",
       "1                  1  \n",
       "2                  0  \n",
       "3                  1  \n",
       "4                  1  "
      ]
     },
     "execution_count": 86,
     "metadata": {},
     "output_type": "execute_result"
    }
   ],
   "source": [
    "df4.head()"
   ]
  },
  {
   "cell_type": "markdown",
   "id": "ad664cb8",
   "metadata": {
    "hidden": true
   },
   "source": [
    "## 4.1 Lista de Hipóteses"
   ]
  },
  {
   "cell_type": "markdown",
   "id": "78176ca1",
   "metadata": {
    "hidden": true
   },
   "source": [
    "### 4.1.5 Hipótese do regime de alimentação: Reservas com regime de alimentação incluído podem ter menores chances de serem canceladas do que reservas sem regime de alimentação."
   ]
  },
  {
   "cell_type": "markdown",
   "id": "0d6cefad",
   "metadata": {
    "hidden": true
   },
   "source": [
    "1. Hipótese de classificação do hotel: Hotéis com classificações mais altas podem ter menor probabilidade de cancelamento de reservas do que hotéis com classificações mais baixas.\n",
    "\n",
    "2. Hipótese do tempo de reserva: Quanto mais cedo uma reserva for feita, menor será a probabilidade de cancelamento. Por outro lado, reservas feitas com menos antecedência podem ter maiores chances de serem canceladas.\n",
    "\n",
    "3. Hipótese de número de pernoites: Reservas com um maior número de pernoites podem ter menores chances de serem canceladas do que reservas com menos noites.\n",
    "\n",
    "4. Hipótese do número de hóspedes: Reservas com um número maior de hóspedes podem ter maior probabilidade de serem canceladas.\n",
    "\n",
    "5. Hipótese do regime de alimentação: Reservas com regime de alimentação incluído podem ter menores chances de serem canceladas do que reservas sem regime de alimentação.\n",
    "\n",
    "6. Hipótese da nacionalidade: Hóspedes de determinadas nacionalidades podem ter maior probabilidade de cancelar suas reservas.\n",
    "\n",
    "7. Hipótese da forma de reserva: Reservas feitas por meio de canais diferentes (como agências de turismo ou empresas) podem ter diferentes taxas de cancelamento.\n",
    "\n",
    "8. Hipótese da hospedagem anterior: Hóspedes que já se hospedaram anteriormente no hotel podem ter menor probabilidade de cancelar suas reservas.\n",
    "\n",
    "9. Hipótese do tipo de quarto: Diferentes tipos de quarto podem ter diferentes taxas de cancelamento.\n",
    "\n",
    "10. Hipótese da reserva feita por agência de turismo ou empresa: Reservas feitas por meio de agências de turismo ou empresas podem ter menores chances de serem canceladas.\n",
    "\n",
    "11. Hipótese da reserva com estacionamento: Reservas que incluem estacionamento podem ter menores chances de serem canceladas.\n",
    "\n",
    "12. Hipótese da reserva com observações: Reservas que incluem observações específicas dos hóspedes (como solicitações especiais) podem ter menores chances de serem canceladas.\n"
   ]
  },
  {
   "cell_type": "markdown",
   "id": "4954d645",
   "metadata": {
    "hidden": true
   },
   "source": [
    "### 4.1.1 Hipótese de classificação do hotel: Hotéis com classificações mais altas podem ter menor probabilidade de cancelamento de reservas do que hotéis com classificações mais baixas."
   ]
  },
  {
   "cell_type": "code",
   "execution_count": 87,
   "id": "1da0eca7",
   "metadata": {
    "ExecuteTime": {
     "end_time": "2023-05-12T12:10:36.017297Z",
     "start_time": "2023-05-12T12:10:35.784124Z"
    },
    "hidden": true
   },
   "outputs": [
    {
     "data": {
      "text/plain": [
       "<Axes: xlabel='classificacao', ylabel='count'>"
      ]
     },
     "execution_count": 87,
     "metadata": {},
     "output_type": "execute_result"
    },
    {
     "data": {
      "image/png": "[encoded data removed]",
      "text/plain": [
       "<Figure size 640x480 with 1 Axes>"
      ]
     },
     "metadata": {},
     "output_type": "display_data"
    }
   ],
   "source": [
    "sns.countplot(x='classificacao', hue='reserva_cancelada', data=df4)"
   ]
  },
  {
   "cell_type": "markdown",
   "id": "957062a6",
   "metadata": {
    "hidden": true
   },
   "source": [
    "VERDADEIRO - Hoteis com 4 estrelas tem mais cancelamentos proporcionalmente"
   ]
  },
  {
   "cell_type": "markdown",
   "id": "a9bbf85e",
   "metadata": {
    "hidden": true
   },
   "source": [
    "### 4.1.2 Hipótese do tempo de reserva: Quanto mais cedo uma reserva for feita, menor será a probabilidade de cancelamento. Por outro lado, reservas feitas com menos antecedência podem ter maiores chances de serem canceladas."
   ]
  },
  {
   "cell_type": "code",
   "execution_count": 88,
   "id": "4fb30376",
   "metadata": {
    "ExecuteTime": {
     "end_time": "2023-05-12T12:10:36.719607Z",
     "start_time": "2023-05-12T12:10:36.019337Z"
    },
    "hidden": true
   },
   "outputs": [
    {
     "data": {
      "text/plain": [
       "Text(0.5, 1.0, 'Proporção de reserva canceladas por não canceladas')"
      ]
     },
     "execution_count": 88,
     "metadata": {},
     "output_type": "execute_result"
    },
    {
     "data": {
      "image/png": "[encoded data removed]",
      "text/plain": [
       "<Figure size 2000x1000 with 2 Axes>"
      ]
     },
     "metadata": {},
     "output_type": "display_data"
    }
   ],
   "source": [
    "plt.figure(figsize=(20,10))\n",
    "\n",
    "plt.subplot(1,2,1)\n",
    "aux1 = df4.loc[df4['meses_ate_checkin'] <= 12,:]\n",
    "sns.countplot(x='meses_ate_checkin', hue='reserva_cancelada', data=aux1)\n",
    "plt.title('Comparação de reservas canceladas e não canceladas ao longo dos meses')\n",
    "\n",
    "plt.subplot(1,2,2)\n",
    "# proporcao_meses_reserva = df4.loc[(df4['meses_ate_checkin'] <= 24) & (df4['reserva_cancelada'] == 1),['meses_ate_checkin','reserva_cancelada']].groupby(['meses_ate_checkin']).count().reset_index()\n",
    "# proporcao_meses_cancelamento = df4.loc[(df4['meses_ate_checkin'] <= 24) & (df4['reserva_cancelada'] == 0),['meses_ate_checkin','reserva_cancelada']].groupby(['meses_ate_checkin']).count().reset_index()\n",
    "# proporcao_final = proporcao_meses_reserva['reserva_cancelada']/proporcao_meses_cancelamento['reserva_cancelada']\n",
    "# proporcao_final = proporcao_final.reset_index()\n",
    "# proporcao_final = proporcao_final.rename(columns={'index':'meses'})\n",
    "# proporcao_final['meses'] = proporcao_final['meses'] + 1\n",
    "# proporcao_final = proporcao_final.loc[proporcao_final['meses'] <=12,:]\n",
    "proporcoes_meses = df4.loc[df4['meses_ate_checkin'] <=12, ['meses_ate_checkin','reserva_cancelada']].groupby('meses_ate_checkin').value_counts(normalize=True).mul(100).rename('percentual').reset_index()\n",
    "sns.barplot(x='meses_ate_checkin', y='percentual', hue='reserva_cancelada', data=proporcoes_meses)\n",
    "plt.title('Proporção de reserva canceladas por não canceladas')"
   ]
  },
  {
   "cell_type": "markdown",
   "id": "1ca9698e",
   "metadata": {
    "hidden": true
   },
   "source": [
    "VERDADEIRO - A proporção de cancelamentos é bem menor com reservas nos 2 primeiros meses.\n",
    "a proporção começa a inverter a partir de reservas com 8 meses de antecedência. Pelo segundo gráfico podemos ver que o pico acontece no mês 10, sendo o mais que proporcionalmente tem mais cancelamentos."
   ]
  },
  {
   "cell_type": "markdown",
   "id": "925dac5a",
   "metadata": {
    "hidden": true
   },
   "source": [
    "### 4.1.3 Hipótese de número de pernoites: Reservas com um maior número de pernoites podem ter menores chances de serem canceladas do que reservas com menos noites."
   ]
  },
  {
   "cell_type": "code",
   "execution_count": 89,
   "id": "955c952c",
   "metadata": {
    "ExecuteTime": {
     "end_time": "2023-05-12T12:10:37.139529Z",
     "start_time": "2023-05-12T12:10:36.721626Z"
    },
    "hidden": true
   },
   "outputs": [
    {
     "data": {
      "text/plain": [
       "Text(0.5, 1.0, 'Proporção de Cancelamentos por Pernoites')"
      ]
     },
     "execution_count": 89,
     "metadata": {},
     "output_type": "execute_result"
    },
    {
     "data": {
      "image/png": "[encoded data removed]",
      "text/plain": [
       "<Figure size 2000x1000 with 1 Axes>"
      ]
     },
     "metadata": {},
     "output_type": "display_data"
    }
   ],
   "source": [
    "plt.figure(figsize=(20,10))\n",
    "aux1 = df4.loc[df4['pernoites'] <= 20, ['pernoites','reserva_cancelada'] ].groupby('pernoites').value_counts(normalize=True).mul(100).rename('percentual').reset_index()\n",
    "sns.barplot(x='pernoites', y='percentual', hue='reserva_cancelada', data=aux1)\n",
    "plt.title('Proporção de Cancelamentos por Pernoites')"
   ]
  },
  {
   "cell_type": "markdown",
   "id": "af7fb5ba",
   "metadata": {
    "hidden": true
   },
   "source": [
    "FALSO - Podemos ver que a maior quantidade de cancelamentos em relação a não cancelamentos ocorre a partir da pernoite 16"
   ]
  },
  {
   "cell_type": "markdown",
   "id": "f6905bff",
   "metadata": {
    "hidden": true
   },
   "source": [
    "### 4.1.4 Hipótese do número de hóspedes: Reservas com um número maior de hóspedes podem ter maior probabilidade de serem canceladas."
   ]
  },
  {
   "cell_type": "code",
   "execution_count": 90,
   "id": "197517fe",
   "metadata": {
    "ExecuteTime": {
     "end_time": "2023-05-12T12:10:37.435045Z",
     "start_time": "2023-05-12T12:10:37.141558Z"
    },
    "hidden": true
   },
   "outputs": [
    {
     "data": {
      "text/plain": [
       "<Axes: xlabel='hospedes', ylabel='percentual'>"
      ]
     },
     "execution_count": 90,
     "metadata": {},
     "output_type": "execute_result"
    },
    {
     "data": {
      "image/png": "[encoded data removed]",
      "text/plain": [
       "<Figure size 2000x1000 with 1 Axes>"
      ]
     },
     "metadata": {},
     "output_type": "display_data"
    }
   ],
   "source": [
    "plt.figure(figsize=(20,10))\n",
    "proporcao_hospede = df4.loc[df4['hospedes'] <= 15,['hospedes','reserva_cancelada']].groupby('hospedes').value_counts(normalize=True).mul(100).rename('percentual').reset_index()\n",
    "sns.barplot(x='hospedes', y='percentual', hue='reserva_cancelada', data=proporcao_hospede)"
   ]
  },
  {
   "cell_type": "markdown",
   "id": "88d04a56",
   "metadata": {
    "hidden": true
   },
   "source": [
    "VERDADEIRO - Podemos ver que a barra laranja tende a subir e azul a diminuir conforme o numero\n",
    "de hospedes aumenta sendo que o pico aparece no número de hospedes igual a 4"
   ]
  },
  {
   "cell_type": "markdown",
   "id": "de3fcbfc",
   "metadata": {
    "hidden": true
   },
   "source": [
    "### 4.1.5 Hipótese do regime de alimentação: Reservas com regime de alimentação incluído podem ter menores chances de serem canceladas do que reservas sem regime de alimentação."
   ]
  },
  {
   "cell_type": "code",
   "execution_count": 91,
   "id": "38fd07f0",
   "metadata": {
    "ExecuteTime": {
     "end_time": "2023-05-12T12:10:37.697886Z",
     "start_time": "2023-05-12T12:10:37.436053Z"
    },
    "hidden": true
   },
   "outputs": [
    {
     "data": {
      "text/plain": [
       "<Axes: xlabel='regime_alimentacao', ylabel='percentual'>"
      ]
     },
     "execution_count": 91,
     "metadata": {},
     "output_type": "execute_result"
    },
    {
     "data": {
      "image/png": "[encoded data removed]",
      "text/plain": [
       "<Figure size 1500x700 with 1 Axes>"
      ]
     },
     "metadata": {},
     "output_type": "display_data"
    }
   ],
   "source": [
    "plt.figure(figsize=(15,7))\n",
    "proporcao_alimentacao = df4.loc[:,['regime_alimentacao','reserva_cancelada']].groupby('regime_alimentacao').value_counts(normalize=True).mul(100).rename('percentual').reset_index()\n",
    "sns.barplot(x='regime_alimentacao', y='percentual', hue='reserva_cancelada', data=proporcao_alimentacao)"
   ]
  },
  {
   "cell_type": "markdown",
   "id": "b4fb034c",
   "metadata": {
    "hidden": true
   },
   "source": [
    "FALSO - Existem mais reservas canceladas do que não canceladas no regime de Café da manhã, almoço e Jantar."
   ]
  },
  {
   "cell_type": "markdown",
   "id": "c1253d0e",
   "metadata": {
    "hidden": true
   },
   "source": [
    "### 4.1.6 Hipótese da nacionalidade: Hóspedes de determinadas nacionalidades podem ter maior probabilidade de cancelar suas reservas."
   ]
  },
  {
   "cell_type": "code",
   "execution_count": 92,
   "id": "111ccfc3",
   "metadata": {
    "ExecuteTime": {
     "end_time": "2023-05-12T12:10:38.335060Z",
     "start_time": "2023-05-12T12:10:37.699921Z"
    },
    "hidden": true
   },
   "outputs": [
    {
     "data": {
      "image/png": "[encoded data removed]",
      "text/plain": [
       "<Figure size 2000x500 with 1 Axes>"
      ]
     },
     "metadata": {},
     "output_type": "display_data"
    }
   ],
   "source": [
    "plt.figure(figsize=(20,5))\n",
    "\n",
    "proporcao_nacionalidade_qtd = df4.loc[:,['nacionalidade','reserva_cancelada']].groupby('nacionalidade').value_counts().rename('quantidade').reset_index()\n",
    "proporcao_nacionalidade_perc = df4.loc[:,['nacionalidade','reserva_cancelada']].groupby('nacionalidade').value_counts(normalize=True).mul(100).rename('percentual').reset_index()\n",
    "\n",
    "prop_nac_full = pd.merge(proporcao_nacionalidade_qtd, proporcao_nacionalidade_perc)\n",
    "\n",
    "\n",
    "prop_nac_full_cancelada = prop_nac_full[prop_nac_full['quantidade'] > 100]\n",
    "sns.barplot(x='nacionalidade', y='percentual', hue='reserva_cancelada', data=prop_nac_full_cancelada)\n",
    "plt.xticks(rotation=-90);"
   ]
  },
  {
   "cell_type": "markdown",
   "id": "ea00066a",
   "metadata": {
    "hidden": true
   },
   "source": [
    "VERDADEIRO - Para números de reserva maior que 100, Espanha e Angola são os únicos países que possuem mais cancelamentos do que não cancelamentos. Já Finlândia, Holanda e Alemanha são os que menos cancelam"
   ]
  },
  {
   "cell_type": "markdown",
   "id": "6fe8cde6",
   "metadata": {
    "hidden": true
   },
   "source": [
    "### 4.1.7 Hipótese da forma de reserva: Reservas feitas por meio de canais diferentes (como agências de turismo ou empresas) podem ter diferentes taxas de cancelamento."
   ]
  },
  {
   "cell_type": "code",
   "execution_count": 93,
   "id": "5ef509eb",
   "metadata": {
    "ExecuteTime": {
     "end_time": "2023-05-12T12:10:38.769263Z",
     "start_time": "2023-05-12T12:10:38.344577Z"
    },
    "hidden": true
   },
   "outputs": [
    {
     "data": {
      "text/plain": [
       "<Axes: xlabel='reserva_empresa', ylabel='percentual'>"
      ]
     },
     "execution_count": 93,
     "metadata": {},
     "output_type": "execute_result"
    },
    {
     "data": {
      "image/png": "[encoded data removed]",
      "text/plain": [
       "<Figure size 1000x1000 with 2 Axes>"
      ]
     },
     "metadata": {},
     "output_type": "display_data"
    }
   ],
   "source": [
    "plt.figure(figsize=(10,10))\n",
    "\n",
    "plt.subplot(2,1,1)\n",
    "proporcao_agencia = df4.loc[:,['reserva_agencia','reserva_cancelada']].groupby('reserva_agencia').value_counts(normalize=True).mul(100).rename('percentual').reset_index()\n",
    "sns.barplot(x='reserva_agencia', y='percentual', hue='reserva_cancelada', data=proporcao_agencia)\n",
    "\n",
    "plt.subplot(2,1,2)\n",
    "proporcao_empresa = df4.loc[:,['reserva_empresa','reserva_cancelada']].groupby('reserva_empresa').value_counts(normalize=True).mul(100).rename('percentual').reset_index()\n",
    "sns.barplot(x='reserva_empresa', y='percentual', hue='reserva_cancelada', data=proporcao_empresa)"
   ]
  },
  {
   "cell_type": "code",
   "execution_count": 94,
   "id": "4953d406",
   "metadata": {
    "ExecuteTime": {
     "end_time": "2023-05-12T12:10:38.988312Z",
     "start_time": "2023-05-12T12:10:38.770833Z"
    },
    "hidden": true
   },
   "outputs": [
    {
     "data": {
      "text/plain": [
       "<Axes: xlabel='forma_reserva', ylabel='percentual'>"
      ]
     },
     "execution_count": 94,
     "metadata": {},
     "output_type": "execute_result"
    },
    {
     "data": {
      "image/png": "[encoded data removed]",
      "text/plain": [
       "<Figure size 640x480 with 1 Axes>"
      ]
     },
     "metadata": {},
     "output_type": "display_data"
    }
   ],
   "source": [
    "proporcao_forma = df4.loc[:,['forma_reserva','reserva_cancelada']].groupby('forma_reserva').value_counts(normalize=True).mul(100).rename('percentual').reset_index()\n",
    "sns.barplot(x='forma_reserva', y='percentual', hue='reserva_cancelada', data=proporcao_forma)"
   ]
  },
  {
   "cell_type": "markdown",
   "id": "29281648",
   "metadata": {
    "hidden": true
   },
   "source": [
    "FALSO - Reservas feitas por Agência de turismo têm muito mais chances de serem canceladas."
   ]
  },
  {
   "cell_type": "markdown",
   "id": "17cb9f7f",
   "metadata": {
    "hidden": true
   },
   "source": [
    "### 4.1.8 Hipótese da hospedagem anterior: Hóspedes que já se hospedaram anteriormente no hotel podem ter menor probabilidade de cancelar suas reservas."
   ]
  },
  {
   "cell_type": "code",
   "execution_count": 95,
   "id": "678ede3c",
   "metadata": {
    "ExecuteTime": {
     "end_time": "2023-05-12T12:10:39.158523Z",
     "start_time": "2023-05-12T12:10:38.990391Z"
    },
    "hidden": true
   },
   "outputs": [
    {
     "data": {
      "text/plain": [
       "<Axes: xlabel='ja_hospedou', ylabel='percentual'>"
      ]
     },
     "execution_count": 95,
     "metadata": {},
     "output_type": "execute_result"
    },
    {
     "data": {
      "image/png": "[encoded data removed]",
      "text/plain": [
       "<Figure size 640x480 with 1 Axes>"
      ]
     },
     "metadata": {},
     "output_type": "display_data"
    }
   ],
   "source": [
    "proporcao_hospedou = df4.loc[:,['ja_hospedou','reserva_cancelada']].groupby('ja_hospedou').value_counts(normalize=True).mul(100).rename('percentual').reset_index()\n",
    "sns.barplot(x='ja_hospedou', y='percentual', hue='reserva_cancelada', data=proporcao_hospedou)\n"
   ]
  },
  {
   "cell_type": "markdown",
   "id": "c7a8c050",
   "metadata": {
    "ExecuteTime": {
     "end_time": "2023-05-12T12:10:39.174060Z",
     "start_time": "2023-05-12T12:10:39.160583Z"
    },
    "hidden": true
   },
   "source": [
    "VERDADEIRO - Hospedes que já se hospedaram têm muito mais chances de não cancelarem."
   ]
  },
  {
   "cell_type": "markdown",
   "id": "abc76d15",
   "metadata": {
    "hidden": true
   },
   "source": [
    "### 4.1.9 Hipótese do tipo de quarto: Diferentes tipos de quarto podem ter diferentes taxas de cancelamento."
   ]
  },
  {
   "cell_type": "code",
   "execution_count": 96,
   "id": "37359dfe",
   "metadata": {
    "ExecuteTime": {
     "end_time": "2023-05-12T12:11:42.318206Z",
     "start_time": "2023-05-12T12:11:42.044097Z"
    },
    "hidden": true
   },
   "outputs": [
    {
     "data": {
      "image/png": "[encoded data removed]",
      "text/plain": [
       "<Figure size 640x480 with 1 Axes>"
      ]
     },
     "metadata": {},
     "output_type": "display_data"
    }
   ],
   "source": [
    "proporcao_quarto = df4.loc[:,['tipo_quarto','reserva_cancelada']].groupby('tipo_quarto').value_counts(normalize=True).mul(100).rename('percentual').reset_index()\n",
    "sns.barplot(x='tipo_quarto', y='percentual', hue='reserva_cancelada', data=proporcao_quarto)\n",
    "plt.xticks(rotation=90);"
   ]
  },
  {
   "cell_type": "markdown",
   "id": "2f7faa68",
   "metadata": {
    "hidden": true
   },
   "source": [
    "VERDADEIRO - Exceto Quarto Garnet e Moonstone que possuem poucas ocorrências, o quarto que mais tem cancelamentos em relação a não cancelamentos é o Peridot."
   ]
  },
  {
   "cell_type": "markdown",
   "id": "33c9c7c5",
   "metadata": {
    "hidden": true
   },
   "source": [
    "### 4.1.11 Hipótese da reserva com estacionamento: Reservas que incluem estacionamento podem ter menores chances de serem canceladas."
   ]
  },
  {
   "cell_type": "code",
   "execution_count": 97,
   "id": "2ae2b704",
   "metadata": {
    "ExecuteTime": {
     "end_time": "2023-05-12T12:11:42.473578Z",
     "start_time": "2023-05-12T12:11:42.320734Z"
    },
    "hidden": true
   },
   "outputs": [
    {
     "data": {
      "image/png": "[encoded data removed]",
      "text/plain": [
       "<Figure size 640x480 with 1 Axes>"
      ]
     },
     "metadata": {},
     "output_type": "display_data"
    }
   ],
   "source": [
    "proporcao_estac = df4.loc[:,['reserva_estacionamento','reserva_cancelada']].groupby('reserva_estacionamento').value_counts(normalize=True).mul(100).rename('percentual').reset_index()\n",
    "sns.barplot(x='reserva_estacionamento', y='percentual', hue='reserva_cancelada', data=proporcao_estac)\n",
    "plt.xticks(rotation=90);"
   ]
  },
  {
   "cell_type": "markdown",
   "id": "fcfef417",
   "metadata": {
    "hidden": true
   },
   "source": [
    "VERDADEIRO - Não existe clientes que pegaram reserva e cancelaram."
   ]
  },
  {
   "cell_type": "markdown",
   "id": "a81c4734",
   "metadata": {
    "hidden": true
   },
   "source": [
    "### 4.1.12 Hipótese da reserva com observações: Reservas que incluem observações específicas dos hóspedes (como solicitações especiais) podem ter menores chances de serem canceladas."
   ]
  },
  {
   "cell_type": "code",
   "execution_count": 98,
   "id": "9f849335",
   "metadata": {
    "ExecuteTime": {
     "end_time": "2023-05-12T12:11:42.672801Z",
     "start_time": "2023-05-12T12:11:42.475662Z"
    },
    "hidden": true
   },
   "outputs": [
    {
     "data": {
      "image/png": "[encoded data removed]",
      "text/plain": [
       "<Figure size 640x480 with 1 Axes>"
      ]
     },
     "metadata": {},
     "output_type": "display_data"
    }
   ],
   "source": [
    "proporcao_obs = df4.loc[:,['reserva_observacoes','reserva_cancelada']].groupby('reserva_observacoes').value_counts(normalize=True).mul(100).rename('percentual').reset_index()\n",
    "sns.barplot(x='reserva_observacoes', y='percentual', hue='reserva_cancelada', data=proporcao_obs)\n",
    "plt.xticks(rotation=90);"
   ]
  },
  {
   "cell_type": "markdown",
   "id": "51596646",
   "metadata": {
    "hidden": true
   },
   "source": [
    "VERDADEIRO - A maioria que pediu observações não cancelou."
   ]
  },
  {
   "cell_type": "markdown",
   "id": "4b2d39dc",
   "metadata": {
    "hidden": true
   },
   "source": [
    "## 4.2 Unilateral Analysis"
   ]
  },
  {
   "cell_type": "code",
   "execution_count": 99,
   "id": "ef5f7d2d",
   "metadata": {
    "ExecuteTime": {
     "end_time": "2023-05-12T12:11:53.392067Z",
     "start_time": "2023-05-12T12:11:42.674819Z"
    },
    "hidden": true
   },
   "outputs": [],
   "source": [
    "# report = sv.analyze(source=df4, target_feat='reserva_cancelada')\n",
    "\n",
    "# report.show_html('relatorio_sweetviz.html')\n",
    "# webbrowser.open('relatorio_sweetviz.html')"
   ]
  },
  {
   "cell_type": "markdown",
   "id": "f7b8997d",
   "metadata": {
    "hidden": true
   },
   "source": [
    "## 4.3 Multilateral Analysis"
   ]
  },
  {
   "cell_type": "code",
   "execution_count": 100,
   "id": "f7711c61",
   "metadata": {
    "ExecuteTime": {
     "end_time": "2023-05-12T12:11:53.643857Z",
     "start_time": "2023-05-12T12:11:53.393501Z"
    },
    "hidden": true
   },
   "outputs": [
    {
     "data": {
      "text/plain": [
       "<Axes: >"
      ]
     },
     "execution_count": 100,
     "metadata": {},
     "output_type": "execute_result"
    },
    {
     "data": {
      "image/png": "[encoded data removed]",
      "text/plain": [
       "<Figure size 1000x500 with 2 Axes>"
      ]
     },
     "metadata": {},
     "output_type": "display_data"
    }
   ],
   "source": [
    "plt.figure(figsize=(10,5))\n",
    "sns.heatmap(numerical_attributes.corr(method='pearson'), annot=True)"
   ]
  },
  {
   "cell_type": "code",
   "execution_count": 101,
   "id": "3d0ddeaa",
   "metadata": {
    "ExecuteTime": {
     "end_time": "2023-05-12T12:11:53.659147Z",
     "start_time": "2023-05-12T12:11:53.645922Z"
    },
    "hidden": true
   },
   "outputs": [],
   "source": [
    "a = categorical_attributes"
   ]
  },
  {
   "cell_type": "code",
   "execution_count": 102,
   "id": "4a6cf914",
   "metadata": {
    "ExecuteTime": {
     "end_time": "2023-05-12T12:11:55.844056Z",
     "start_time": "2023-05-12T12:11:53.660149Z"
    },
    "code_folding": [
     0
    ],
    "hidden": true
   },
   "outputs": [
    {
     "data": {
      "text/plain": [
       "<Axes: >"
      ]
     },
     "execution_count": 102,
     "metadata": {},
     "output_type": "execute_result"
    },
    {
     "data": {
      "image/png": "[encoded data removed]",
      "text/plain": [
       "<Figure size 2000x1000 with 2 Axes>"
      ]
     },
     "metadata": {},
     "output_type": "display_data"
    }
   ],
   "source": [
    "#Correlation Categorical Variables\n",
    "a1 = cramer_v( a['classificacao'], a['classificacao'] )\n",
    "a2 = cramer_v( a['classificacao'], a['regime_alimentacao'] )\n",
    "a3 = cramer_v( a['classificacao'], a['nacionalidade'] )\n",
    "a4 = cramer_v( a['classificacao'], a['forma_reserva'] )\n",
    "a5 = cramer_v( a['classificacao'], a['ja_hospedou'] )\n",
    "a6 = cramer_v( a['classificacao'], a['tipo_quarto'] )\n",
    "a7 = cramer_v( a['classificacao'], a['reserva_agencia'] )\n",
    "a8 = cramer_v( a['classificacao'], a['reserva_empresa'] )\n",
    "a9 = cramer_v( a['classificacao'], a['reserva_estacionamento'] )\n",
    "a10 = cramer_v( a['classificacao'], a['reserva_observacoes'] )\n",
    "\n",
    "a11 = cramer_v( a['regime_alimentacao'], a['classificacao'] )\n",
    "a12 = cramer_v( a['regime_alimentacao'], a['regime_alimentacao'] )\n",
    "a13 = cramer_v( a['regime_alimentacao'], a['nacionalidade'] )\n",
    "a14 = cramer_v( a['regime_alimentacao'], a['forma_reserva'] )\n",
    "a15 = cramer_v( a['regime_alimentacao'], a['ja_hospedou'] )\n",
    "a16 = cramer_v( a['regime_alimentacao'], a['tipo_quarto'] )\n",
    "a17 = cramer_v( a['regime_alimentacao'], a['reserva_agencia'] )\n",
    "a18 = cramer_v( a['regime_alimentacao'], a['reserva_empresa'] )\n",
    "a19 = cramer_v( a['regime_alimentacao'], a['reserva_estacionamento'] )\n",
    "a20 = cramer_v( a['regime_alimentacao'], a['reserva_observacoes'] )\n",
    "\n",
    "a21 = cramer_v( a['nacionalidade'], a['classificacao'] )\n",
    "a22 = cramer_v( a['nacionalidade'], a['regime_alimentacao'] )\n",
    "a23 = cramer_v( a['nacionalidade'], a['nacionalidade'] )\n",
    "a24 = cramer_v( a['nacionalidade'], a['forma_reserva'] )\n",
    "a25 = cramer_v( a['nacionalidade'], a['ja_hospedou'] )\n",
    "a26 = cramer_v( a['nacionalidade'], a['tipo_quarto'] )\n",
    "a27 = cramer_v( a['nacionalidade'], a['reserva_agencia'] )\n",
    "a28 = cramer_v( a['nacionalidade'], a['reserva_empresa'] )\n",
    "a29 = cramer_v( a['nacionalidade'], a['reserva_estacionamento'] )\n",
    "a30 = cramer_v( a['nacionalidade'], a['reserva_observacoes'] )\n",
    "\n",
    "a31 = cramer_v( a['forma_reserva'], a['classificacao'] )\n",
    "a32 = cramer_v( a['forma_reserva'], a['regime_alimentacao'] )\n",
    "a33 = cramer_v( a['forma_reserva'], a['nacionalidade'] )\n",
    "a34 = cramer_v( a['forma_reserva'], a['forma_reserva'] )\n",
    "a35 = cramer_v( a['forma_reserva'], a['ja_hospedou'] )\n",
    "a36 = cramer_v( a['forma_reserva'], a['tipo_quarto'] )\n",
    "a37 = cramer_v( a['forma_reserva'], a['reserva_agencia'] )\n",
    "a38 = cramer_v( a['forma_reserva'], a['reserva_empresa'] )\n",
    "a39 = cramer_v( a['forma_reserva'], a['reserva_estacionamento'] )\n",
    "a40 = cramer_v( a['forma_reserva'], a['reserva_observacoes'] )\n",
    "\n",
    "a41 = cramer_v( a['ja_hospedou'], a['classificacao'] )\n",
    "a42 = cramer_v( a['ja_hospedou'], a['regime_alimentacao'] )\n",
    "a43 = cramer_v( a['ja_hospedou'], a['nacionalidade'] )\n",
    "a44 = cramer_v( a['ja_hospedou'], a['forma_reserva'] )\n",
    "a45 = cramer_v( a['ja_hospedou'], a['ja_hospedou'] )\n",
    "a46 = cramer_v( a['ja_hospedou'], a['tipo_quarto'] )\n",
    "a47 = cramer_v( a['ja_hospedou'], a['reserva_agencia'] )\n",
    "a48 = cramer_v( a['ja_hospedou'], a['reserva_empresa'] )\n",
    "a49 = cramer_v( a['ja_hospedou'], a['reserva_estacionamento'] )\n",
    "a50 = cramer_v( a['ja_hospedou'], a['reserva_observacoes'] )\n",
    "\n",
    "a51 = cramer_v( a['tipo_quarto'], a['classificacao'] )\n",
    "a52 = cramer_v( a['tipo_quarto'], a['regime_alimentacao'] )\n",
    "a53 = cramer_v( a['tipo_quarto'], a['nacionalidade'] )\n",
    "a54 = cramer_v( a['tipo_quarto'], a['forma_reserva'] )\n",
    "a55 = cramer_v( a['tipo_quarto'], a['ja_hospedou'] )\n",
    "a56 = cramer_v( a['tipo_quarto'], a['tipo_quarto'] )\n",
    "a57 = cramer_v( a['tipo_quarto'], a['reserva_agencia'] )\n",
    "a58 = cramer_v( a['tipo_quarto'], a['reserva_empresa'] )\n",
    "a59 = cramer_v( a['tipo_quarto'], a['reserva_estacionamento'] )\n",
    "a60 = cramer_v( a['tipo_quarto'], a['reserva_observacoes'] )\n",
    "\n",
    "a61 = cramer_v( a['reserva_agencia'], a['classificacao'] )\n",
    "a62 = cramer_v( a['reserva_agencia'], a['regime_alimentacao'] )\n",
    "a63 = cramer_v( a['reserva_agencia'], a['nacionalidade'] )\n",
    "a64 = cramer_v( a['reserva_agencia'], a['forma_reserva'] )\n",
    "a65 = cramer_v( a['reserva_agencia'], a['ja_hospedou'] )\n",
    "a66 = cramer_v( a['reserva_agencia'], a['tipo_quarto'] )\n",
    "a67 = cramer_v( a['reserva_agencia'], a['reserva_agencia'] )\n",
    "a68 = cramer_v( a['reserva_agencia'], a['reserva_empresa'] )\n",
    "a69 = cramer_v( a['reserva_agencia'], a['reserva_estacionamento'] )\n",
    "a70 = cramer_v( a['reserva_agencia'], a['reserva_observacoes'] )\n",
    "\n",
    "a71 = cramer_v( a['reserva_empresa'], a['classificacao'] )\n",
    "a72 = cramer_v( a['reserva_empresa'], a['regime_alimentacao'] )\n",
    "a73 = cramer_v( a['reserva_empresa'], a['nacionalidade'] )\n",
    "a74 = cramer_v( a['reserva_empresa'], a['forma_reserva'] )\n",
    "a75 = cramer_v( a['reserva_empresa'], a['ja_hospedou'] )\n",
    "a76 = cramer_v( a['reserva_empresa'], a['tipo_quarto'] )\n",
    "a77 = cramer_v( a['reserva_empresa'], a['reserva_agencia'] )\n",
    "a78 = cramer_v( a['reserva_empresa'], a['reserva_empresa'] )\n",
    "a79 = cramer_v( a['reserva_empresa'], a['reserva_estacionamento'] )\n",
    "a80 = cramer_v( a['reserva_empresa'], a['reserva_observacoes'] )\n",
    "\n",
    "a81 = cramer_v( a['reserva_estacionamento'], a['classificacao'] )\n",
    "a82 = cramer_v( a['reserva_estacionamento'], a['regime_alimentacao'] )\n",
    "a83 = cramer_v( a['reserva_estacionamento'], a['nacionalidade'] )\n",
    "a84 = cramer_v( a['reserva_estacionamento'], a['forma_reserva'] )\n",
    "a85 = cramer_v( a['reserva_estacionamento'], a['ja_hospedou'] )\n",
    "a86 = cramer_v( a['reserva_estacionamento'], a['tipo_quarto'] )\n",
    "a87 = cramer_v( a['reserva_estacionamento'], a['reserva_agencia'] )\n",
    "a88 = cramer_v( a['reserva_estacionamento'], a['reserva_empresa'] )\n",
    "a89 = cramer_v( a['reserva_estacionamento'], a['reserva_estacionamento'] )\n",
    "a90 = cramer_v( a['reserva_estacionamento'], a['reserva_observacoes'] )\n",
    "\n",
    "a91 = cramer_v( a['reserva_observacoes'], a['classificacao'] )\n",
    "a92 = cramer_v( a['reserva_observacoes'], a['regime_alimentacao'] )\n",
    "a93 = cramer_v( a['reserva_observacoes'], a['nacionalidade'] )\n",
    "a94 = cramer_v( a['reserva_observacoes'], a['forma_reserva'] )\n",
    "a95 = cramer_v( a['reserva_observacoes'], a['ja_hospedou'] )\n",
    "a96 = cramer_v( a['reserva_observacoes'], a['tipo_quarto'] )\n",
    "a97 = cramer_v( a['reserva_observacoes'], a['reserva_agencia'] )\n",
    "a98 = cramer_v( a['reserva_observacoes'], a['reserva_empresa'] )\n",
    "a99 = cramer_v( a['reserva_observacoes'], a['reserva_estacionamento'] )\n",
    "a100 = cramer_v( a['reserva_observacoes'], a['reserva_observacoes'] )\n",
    "\n",
    "\n",
    "\n",
    "# Final dataset\n",
    "d = pd.DataFrame( {'classificacao': [a1, a2, a3, a4, a5, a6, a7, a8, a9, a10], \n",
    "               'regime_alimentacao': [a11, a12, a13, a14, a15, a16, a17, a18, a19, a20],\n",
    "               'nacionalidade': [a21, a22, a23, a24, a25, a26, a27, a28, a29, a30],\n",
    "                'forma_reserva': [a31, a32, a33, a34, a35, a36, a37, a38, a39, a40],\n",
    "                   'ja_hospedou': [a41, a42, a43, a44, a45, a46, a47, a48, a49, a50],\n",
    "                   'tipo_quarto': [a51, a52, a53, a54, a55, a56, a57, a58, a59, a60],\n",
    "                   'reserva_agencia': [a61, a62, a63, a64, a65, a66, a67, a68, a69, a70],\n",
    "                   'reserva_empresa': [a71, a72, a73, a74, a75, a76, a77, a78, a79, a80],\n",
    "                   'reserva_estacionamento': [a81, a82, a83, a84, a85, a86, a87, a88, a89, a90],\n",
    "                   'reserva_observacoes': [a91, a92, a93, a94, a95, a96, a97, a98, a99, a100]})\n",
    "d = d.set_index( d.columns )\n",
    "plt.figure(figsize=(20,10))\n",
    "sns.heatmap( d, annot=True )"
   ]
  },
  {
   "cell_type": "markdown",
   "id": "107806dc",
   "metadata": {
    "heading_collapsed": true
   },
   "source": [
    "# 5.0 DATA PREPARATION"
   ]
  },
  {
   "cell_type": "code",
   "execution_count": 103,
   "id": "561ca448",
   "metadata": {
    "ExecuteTime": {
     "end_time": "2023-05-12T16:55:34.726871Z",
     "start_time": "2023-05-12T16:55:34.720247Z"
    },
    "hidden": true
   },
   "outputs": [],
   "source": [
    "df5 = df4.copy()"
   ]
  },
  {
   "cell_type": "code",
   "execution_count": 104,
   "id": "45b9ff99",
   "metadata": {
    "ExecuteTime": {
     "end_time": "2023-05-12T16:55:44.295184Z",
     "start_time": "2023-05-12T16:55:44.274726Z"
    },
    "hidden": true
   },
   "outputs": [
    {
     "data": {
      "text/html": [
       "<div>\n",
       "<style scoped>\n",
       "    .dataframe tbody tr th:only-of-type {\n",
       "        vertical-align: middle;\n",
       "    }\n",
       "\n",
       "    .dataframe tbody tr th {\n",
       "        vertical-align: top;\n",
       "    }\n",
       "\n",
       "    .dataframe thead th {\n",
       "        text-align: right;\n",
       "    }\n",
       "</style>\n",
       "<table border=\"1\" class=\"dataframe\">\n",
       "  <thead>\n",
       "    <tr style=\"text-align: right;\">\n",
       "      <th></th>\n",
       "      <th>40868</th>\n",
       "      <th>52780</th>\n",
       "      <th>32902</th>\n",
       "      <th>38350</th>\n",
       "      <th>61835</th>\n",
       "      <th>53937</th>\n",
       "      <th>66411</th>\n",
       "      <th>17219</th>\n",
       "      <th>65093</th>\n",
       "      <th>568</th>\n",
       "      <th>38545</th>\n",
       "      <th>43743</th>\n",
       "      <th>63578</th>\n",
       "      <th>43934</th>\n",
       "      <th>58344</th>\n",
       "      <th>53052</th>\n",
       "      <th>27766</th>\n",
       "      <th>59900</th>\n",
       "      <th>33323</th>\n",
       "      <th>31520</th>\n",
       "    </tr>\n",
       "  </thead>\n",
       "  <tbody>\n",
       "    <tr>\n",
       "      <th>id</th>\n",
       "      <td>54735</td>\n",
       "      <td>83611</td>\n",
       "      <td>6967</td>\n",
       "      <td>48522</td>\n",
       "      <td>110847</td>\n",
       "      <td>38365</td>\n",
       "      <td>67150</td>\n",
       "      <td>37627</td>\n",
       "      <td>49418</td>\n",
       "      <td>32375</td>\n",
       "      <td>47782</td>\n",
       "      <td>48517</td>\n",
       "      <td>64497</td>\n",
       "      <td>43052</td>\n",
       "      <td>97694</td>\n",
       "      <td>21629</td>\n",
       "      <td>96730</td>\n",
       "      <td>61436</td>\n",
       "      <td>76133</td>\n",
       "      <td>26691</td>\n",
       "    </tr>\n",
       "    <tr>\n",
       "      <th>classificacao</th>\n",
       "      <td>4 estrelas</td>\n",
       "      <td>4 estrelas</td>\n",
       "      <td>5 estrelas</td>\n",
       "      <td>4 estrelas</td>\n",
       "      <td>4 estrelas</td>\n",
       "      <td>5 estrelas</td>\n",
       "      <td>4 estrelas</td>\n",
       "      <td>5 estrelas</td>\n",
       "      <td>4 estrelas</td>\n",
       "      <td>5 estrelas</td>\n",
       "      <td>4 estrelas</td>\n",
       "      <td>4 estrelas</td>\n",
       "      <td>4 estrelas</td>\n",
       "      <td>4 estrelas</td>\n",
       "      <td>4 estrelas</td>\n",
       "      <td>5 estrelas</td>\n",
       "      <td>4 estrelas</td>\n",
       "      <td>4 estrelas</td>\n",
       "      <td>4 estrelas</td>\n",
       "      <td>5 estrelas</td>\n",
       "    </tr>\n",
       "    <tr>\n",
       "      <th>meses_ate_checkin</th>\n",
       "      <td>13</td>\n",
       "      <td>1</td>\n",
       "      <td>10</td>\n",
       "      <td>3</td>\n",
       "      <td>5</td>\n",
       "      <td>5</td>\n",
       "      <td>4</td>\n",
       "      <td>1</td>\n",
       "      <td>4</td>\n",
       "      <td>2</td>\n",
       "      <td>3</td>\n",
       "      <td>2</td>\n",
       "      <td>1</td>\n",
       "      <td>2</td>\n",
       "      <td>2</td>\n",
       "      <td>1</td>\n",
       "      <td>7</td>\n",
       "      <td>2</td>\n",
       "      <td>9</td>\n",
       "      <td>7</td>\n",
       "    </tr>\n",
       "    <tr>\n",
       "      <th>pernoites</th>\n",
       "      <td>2</td>\n",
       "      <td>2</td>\n",
       "      <td>7</td>\n",
       "      <td>5</td>\n",
       "      <td>2</td>\n",
       "      <td>2</td>\n",
       "      <td>4</td>\n",
       "      <td>2</td>\n",
       "      <td>1</td>\n",
       "      <td>3</td>\n",
       "      <td>2</td>\n",
       "      <td>3</td>\n",
       "      <td>5</td>\n",
       "      <td>2</td>\n",
       "      <td>2</td>\n",
       "      <td>7</td>\n",
       "      <td>3</td>\n",
       "      <td>3</td>\n",
       "      <td>2</td>\n",
       "      <td>4</td>\n",
       "    </tr>\n",
       "    <tr>\n",
       "      <th>hospedes</th>\n",
       "      <td>2</td>\n",
       "      <td>2</td>\n",
       "      <td>2</td>\n",
       "      <td>2</td>\n",
       "      <td>2</td>\n",
       "      <td>2</td>\n",
       "      <td>2</td>\n",
       "      <td>2</td>\n",
       "      <td>2</td>\n",
       "      <td>1</td>\n",
       "      <td>2</td>\n",
       "      <td>3</td>\n",
       "      <td>2</td>\n",
       "      <td>2</td>\n",
       "      <td>2</td>\n",
       "      <td>2</td>\n",
       "      <td>2</td>\n",
       "      <td>2</td>\n",
       "      <td>2</td>\n",
       "      <td>2</td>\n",
       "    </tr>\n",
       "    <tr>\n",
       "      <th>regime_alimentacao</th>\n",
       "      <td>Café da manha</td>\n",
       "      <td>Sem refeicao</td>\n",
       "      <td>Café da manha</td>\n",
       "      <td>Sem refeicao</td>\n",
       "      <td>Café da manha</td>\n",
       "      <td>Café da manha</td>\n",
       "      <td>Café da manha</td>\n",
       "      <td>Café da manha</td>\n",
       "      <td>Café da manha</td>\n",
       "      <td>Sem refeicao</td>\n",
       "      <td>Café da manha</td>\n",
       "      <td>Café da manha</td>\n",
       "      <td>Café da manha</td>\n",
       "      <td>Café da manha e jantar</td>\n",
       "      <td>Café da manha</td>\n",
       "      <td>Café da manha</td>\n",
       "      <td>Café da manha</td>\n",
       "      <td>Café da manha</td>\n",
       "      <td>Café da manha e jantar</td>\n",
       "      <td>Café da manha</td>\n",
       "    </tr>\n",
       "    <tr>\n",
       "      <th>nacionalidade</th>\n",
       "      <td>Spain</td>\n",
       "      <td>Brazil</td>\n",
       "      <td>Spain</td>\n",
       "      <td>Netherlands</td>\n",
       "      <td>Israel</td>\n",
       "      <td>Taiwan, Province of China</td>\n",
       "      <td>Spain</td>\n",
       "      <td>Spain</td>\n",
       "      <td>Spain</td>\n",
       "      <td>Spain</td>\n",
       "      <td>Spain</td>\n",
       "      <td>Spain</td>\n",
       "      <td>Spain</td>\n",
       "      <td>Spain</td>\n",
       "      <td>Spain</td>\n",
       "      <td>Russian Federation</td>\n",
       "      <td>Czech Republic</td>\n",
       "      <td>Spain</td>\n",
       "      <td>Spain</td>\n",
       "      <td>Spain</td>\n",
       "    </tr>\n",
       "    <tr>\n",
       "      <th>forma_reserva</th>\n",
       "      <td>Agência</td>\n",
       "      <td>Agência</td>\n",
       "      <td>Agência</td>\n",
       "      <td>Agência</td>\n",
       "      <td>Agência</td>\n",
       "      <td>Agência</td>\n",
       "      <td>Agência</td>\n",
       "      <td>Agência</td>\n",
       "      <td>Agência</td>\n",
       "      <td>Balcão</td>\n",
       "      <td>Agência</td>\n",
       "      <td>Agência</td>\n",
       "      <td>Agência</td>\n",
       "      <td>Agência</td>\n",
       "      <td>Agência</td>\n",
       "      <td>Agência</td>\n",
       "      <td>Agência</td>\n",
       "      <td>Agência</td>\n",
       "      <td>Agência</td>\n",
       "      <td>Agência</td>\n",
       "    </tr>\n",
       "    <tr>\n",
       "      <th>ja_hospedou</th>\n",
       "      <td>Não</td>\n",
       "      <td>Não</td>\n",
       "      <td>Não</td>\n",
       "      <td>Não</td>\n",
       "      <td>Não</td>\n",
       "      <td>Não</td>\n",
       "      <td>Não</td>\n",
       "      <td>Não</td>\n",
       "      <td>Não</td>\n",
       "      <td>Não</td>\n",
       "      <td>Não</td>\n",
       "      <td>Não</td>\n",
       "      <td>Não</td>\n",
       "      <td>Não</td>\n",
       "      <td>Não</td>\n",
       "      <td>Não</td>\n",
       "      <td>Não</td>\n",
       "      <td>Não</td>\n",
       "      <td>Não</td>\n",
       "      <td>Não</td>\n",
       "    </tr>\n",
       "    <tr>\n",
       "      <th>tipo_quarto</th>\n",
       "      <td>Amethyst</td>\n",
       "      <td>Amethyst</td>\n",
       "      <td>Amethyst</td>\n",
       "      <td>Amethyst</td>\n",
       "      <td>Amethyst</td>\n",
       "      <td>Amethyst</td>\n",
       "      <td>Amethyst</td>\n",
       "      <td>Green Emerald</td>\n",
       "      <td>Amethyst</td>\n",
       "      <td>Amethyst</td>\n",
       "      <td>Amethyst</td>\n",
       "      <td>Green Emerald</td>\n",
       "      <td>Amethyst</td>\n",
       "      <td>Amethyst</td>\n",
       "      <td>Amethyst</td>\n",
       "      <td>Amethyst</td>\n",
       "      <td>Amethyst</td>\n",
       "      <td>Amethyst</td>\n",
       "      <td>Amethyst</td>\n",
       "      <td>Amethyst</td>\n",
       "    </tr>\n",
       "    <tr>\n",
       "      <th>reserva_agencia</th>\n",
       "      <td>Sim</td>\n",
       "      <td>Sim</td>\n",
       "      <td>Sim</td>\n",
       "      <td>Sim</td>\n",
       "      <td>Sim</td>\n",
       "      <td>Sim</td>\n",
       "      <td>Sim</td>\n",
       "      <td>Sim</td>\n",
       "      <td>Sim</td>\n",
       "      <td>Não</td>\n",
       "      <td>Sim</td>\n",
       "      <td>Sim</td>\n",
       "      <td>Sim</td>\n",
       "      <td>Sim</td>\n",
       "      <td>Sim</td>\n",
       "      <td>Sim</td>\n",
       "      <td>Sim</td>\n",
       "      <td>Não</td>\n",
       "      <td>Sim</td>\n",
       "      <td>Sim</td>\n",
       "    </tr>\n",
       "    <tr>\n",
       "      <th>reserva_empresa</th>\n",
       "      <td>Não</td>\n",
       "      <td>Não</td>\n",
       "      <td>Não</td>\n",
       "      <td>Não</td>\n",
       "      <td>Não</td>\n",
       "      <td>Não</td>\n",
       "      <td>Não</td>\n",
       "      <td>Não</td>\n",
       "      <td>Não</td>\n",
       "      <td>Não</td>\n",
       "      <td>Não</td>\n",
       "      <td>Não</td>\n",
       "      <td>Não</td>\n",
       "      <td>Não</td>\n",
       "      <td>Não</td>\n",
       "      <td>Não</td>\n",
       "      <td>Não</td>\n",
       "      <td>Sim</td>\n",
       "      <td>Não</td>\n",
       "      <td>Não</td>\n",
       "    </tr>\n",
       "    <tr>\n",
       "      <th>reserva_estacionamento</th>\n",
       "      <td>Não</td>\n",
       "      <td>Não</td>\n",
       "      <td>Não</td>\n",
       "      <td>Não</td>\n",
       "      <td>Não</td>\n",
       "      <td>Não</td>\n",
       "      <td>Não</td>\n",
       "      <td>Sim</td>\n",
       "      <td>Não</td>\n",
       "      <td>Não</td>\n",
       "      <td>Não</td>\n",
       "      <td>Não</td>\n",
       "      <td>Não</td>\n",
       "      <td>Não</td>\n",
       "      <td>Não</td>\n",
       "      <td>Não</td>\n",
       "      <td>Não</td>\n",
       "      <td>Não</td>\n",
       "      <td>Não</td>\n",
       "      <td>Não</td>\n",
       "    </tr>\n",
       "    <tr>\n",
       "      <th>reserva_observacoes</th>\n",
       "      <td>Nenhuma</td>\n",
       "      <td>1 a 3</td>\n",
       "      <td>1 a 3</td>\n",
       "      <td>1 a 3</td>\n",
       "      <td>1 a 3</td>\n",
       "      <td>1 a 3</td>\n",
       "      <td>Nenhuma</td>\n",
       "      <td>1 a 3</td>\n",
       "      <td>Nenhuma</td>\n",
       "      <td>Nenhuma</td>\n",
       "      <td>Nenhuma</td>\n",
       "      <td>1 a 3</td>\n",
       "      <td>1 a 3</td>\n",
       "      <td>Nenhuma</td>\n",
       "      <td>Nenhuma</td>\n",
       "      <td>Nenhuma</td>\n",
       "      <td>Nenhuma</td>\n",
       "      <td>Nenhuma</td>\n",
       "      <td>Nenhuma</td>\n",
       "      <td>1 a 3</td>\n",
       "    </tr>\n",
       "    <tr>\n",
       "      <th>reserva_cancelada</th>\n",
       "      <td>1</td>\n",
       "      <td>0</td>\n",
       "      <td>1</td>\n",
       "      <td>1</td>\n",
       "      <td>0</td>\n",
       "      <td>0</td>\n",
       "      <td>1</td>\n",
       "      <td>0</td>\n",
       "      <td>1</td>\n",
       "      <td>0</td>\n",
       "      <td>1</td>\n",
       "      <td>1</td>\n",
       "      <td>1</td>\n",
       "      <td>1</td>\n",
       "      <td>0</td>\n",
       "      <td>0</td>\n",
       "      <td>0</td>\n",
       "      <td>1</td>\n",
       "      <td>0</td>\n",
       "      <td>0</td>\n",
       "    </tr>\n",
       "  </tbody>\n",
       "</table>\n",
       "</div>"
      ],
      "text/plain": [
       "                                40868         52780          32902   \n",
       "id                              54735         83611           6967  \\\n",
       "classificacao              4 estrelas    4 estrelas     5 estrelas   \n",
       "meses_ate_checkin                  13             1             10   \n",
       "pernoites                           2             2              7   \n",
       "hospedes                            2             2              2   \n",
       "regime_alimentacao      Café da manha  Sem refeicao  Café da manha   \n",
       "nacionalidade                   Spain        Brazil          Spain   \n",
       "forma_reserva                 Agência       Agência        Agência   \n",
       "ja_hospedou                       Não           Não            Não   \n",
       "tipo_quarto                  Amethyst      Amethyst       Amethyst   \n",
       "reserva_agencia                   Sim           Sim            Sim   \n",
       "reserva_empresa                   Não           Não            Não   \n",
       "reserva_estacionamento            Não           Não            Não   \n",
       "reserva_observacoes           Nenhuma         1 a 3          1 a 3   \n",
       "reserva_cancelada                   1             0              1   \n",
       "\n",
       "                               38350          61835   \n",
       "id                             48522         110847  \\\n",
       "classificacao             4 estrelas     4 estrelas   \n",
       "meses_ate_checkin                  3              5   \n",
       "pernoites                          5              2   \n",
       "hospedes                           2              2   \n",
       "regime_alimentacao      Sem refeicao  Café da manha   \n",
       "nacionalidade            Netherlands         Israel   \n",
       "forma_reserva                Agência        Agência   \n",
       "ja_hospedou                      Não            Não   \n",
       "tipo_quarto                 Amethyst       Amethyst   \n",
       "reserva_agencia                  Sim            Sim   \n",
       "reserva_empresa                  Não            Não   \n",
       "reserva_estacionamento           Não            Não   \n",
       "reserva_observacoes            1 a 3          1 a 3   \n",
       "reserva_cancelada                  1              0   \n",
       "\n",
       "                                            53937          66411   \n",
       "id                                          38365          67150  \\\n",
       "classificacao                          5 estrelas     4 estrelas   \n",
       "meses_ate_checkin                               5              4   \n",
       "pernoites                                       2              4   \n",
       "hospedes                                        2              2   \n",
       "regime_alimentacao                  Café da manha  Café da manha   \n",
       "nacionalidade           Taiwan, Province of China          Spain   \n",
       "forma_reserva                             Agência        Agência   \n",
       "ja_hospedou                                   Não            Não   \n",
       "tipo_quarto                              Amethyst       Amethyst   \n",
       "reserva_agencia                               Sim            Sim   \n",
       "reserva_empresa                               Não            Não   \n",
       "reserva_estacionamento                        Não            Não   \n",
       "reserva_observacoes                         1 a 3        Nenhuma   \n",
       "reserva_cancelada                               0              1   \n",
       "\n",
       "                                17219          65093         568     \n",
       "id                              37627          49418         32375  \\\n",
       "classificacao              5 estrelas     4 estrelas    5 estrelas   \n",
       "meses_ate_checkin                   1              4             2   \n",
       "pernoites                           2              1             3   \n",
       "hospedes                            2              2             1   \n",
       "regime_alimentacao      Café da manha  Café da manha  Sem refeicao   \n",
       "nacionalidade                   Spain          Spain         Spain   \n",
       "forma_reserva                 Agência        Agência        Balcão   \n",
       "ja_hospedou                       Não            Não           Não   \n",
       "tipo_quarto             Green Emerald       Amethyst      Amethyst   \n",
       "reserva_agencia                   Sim            Sim           Não   \n",
       "reserva_empresa                   Não            Não           Não   \n",
       "reserva_estacionamento            Sim            Não           Não   \n",
       "reserva_observacoes             1 a 3        Nenhuma       Nenhuma   \n",
       "reserva_cancelada                   0              1             0   \n",
       "\n",
       "                                38545          43743          63578   \n",
       "id                              47782          48517          64497  \\\n",
       "classificacao              4 estrelas     4 estrelas     4 estrelas   \n",
       "meses_ate_checkin                   3              2              1   \n",
       "pernoites                           2              3              5   \n",
       "hospedes                            2              3              2   \n",
       "regime_alimentacao      Café da manha  Café da manha  Café da manha   \n",
       "nacionalidade                   Spain          Spain          Spain   \n",
       "forma_reserva                 Agência        Agência        Agência   \n",
       "ja_hospedou                       Não            Não            Não   \n",
       "tipo_quarto                  Amethyst  Green Emerald       Amethyst   \n",
       "reserva_agencia                   Sim            Sim            Sim   \n",
       "reserva_empresa                   Não            Não            Não   \n",
       "reserva_estacionamento            Não            Não            Não   \n",
       "reserva_observacoes           Nenhuma          1 a 3          1 a 3   \n",
       "reserva_cancelada                   1              1              1   \n",
       "\n",
       "                                         43934          58344   \n",
       "id                                       43052          97694  \\\n",
       "classificacao                       4 estrelas     4 estrelas   \n",
       "meses_ate_checkin                            2              2   \n",
       "pernoites                                    2              2   \n",
       "hospedes                                     2              2   \n",
       "regime_alimentacao      Café da manha e jantar  Café da manha   \n",
       "nacionalidade                            Spain          Spain   \n",
       "forma_reserva                          Agência        Agência   \n",
       "ja_hospedou                                Não            Não   \n",
       "tipo_quarto                           Amethyst       Amethyst   \n",
       "reserva_agencia                            Sim            Sim   \n",
       "reserva_empresa                            Não            Não   \n",
       "reserva_estacionamento                     Não            Não   \n",
       "reserva_observacoes                    Nenhuma        Nenhuma   \n",
       "reserva_cancelada                            1              0   \n",
       "\n",
       "                                     53052           27766          59900   \n",
       "id                                   21629           96730          61436  \\\n",
       "classificacao                   5 estrelas      4 estrelas     4 estrelas   \n",
       "meses_ate_checkin                        1               7              2   \n",
       "pernoites                                7               3              3   \n",
       "hospedes                                 2               2              2   \n",
       "regime_alimentacao           Café da manha   Café da manha  Café da manha   \n",
       "nacionalidade           Russian Federation  Czech Republic          Spain   \n",
       "forma_reserva                      Agência         Agência        Agência   \n",
       "ja_hospedou                            Não             Não            Não   \n",
       "tipo_quarto                       Amethyst        Amethyst       Amethyst   \n",
       "reserva_agencia                        Sim             Sim            Não   \n",
       "reserva_empresa                        Não             Não            Sim   \n",
       "reserva_estacionamento                 Não             Não            Não   \n",
       "reserva_observacoes                Nenhuma         Nenhuma        Nenhuma   \n",
       "reserva_cancelada                        0               0              1   \n",
       "\n",
       "                                         33323          31520  \n",
       "id                                       76133          26691  \n",
       "classificacao                       4 estrelas     5 estrelas  \n",
       "meses_ate_checkin                            9              7  \n",
       "pernoites                                    2              4  \n",
       "hospedes                                     2              2  \n",
       "regime_alimentacao      Café da manha e jantar  Café da manha  \n",
       "nacionalidade                            Spain          Spain  \n",
       "forma_reserva                          Agência        Agência  \n",
       "ja_hospedou                                Não            Não  \n",
       "tipo_quarto                           Amethyst       Amethyst  \n",
       "reserva_agencia                            Sim            Sim  \n",
       "reserva_empresa                            Não            Não  \n",
       "reserva_estacionamento                     Não            Não  \n",
       "reserva_observacoes                    Nenhuma          1 a 3  \n",
       "reserva_cancelada                            0              0  "
      ]
     },
     "execution_count": 104,
     "metadata": {},
     "output_type": "execute_result"
    }
   ],
   "source": [
    "df5.sample(20).T"
   ]
  },
  {
   "cell_type": "markdown",
   "id": "bcea5eba",
   "metadata": {
    "hidden": true
   },
   "source": [
    "## 5.1 Removing Outliers"
   ]
  },
  {
   "cell_type": "code",
   "execution_count": 105,
   "id": "36e7e1c2",
   "metadata": {
    "hidden": true
   },
   "outputs": [],
   "source": [
    "#hospedes\n",
    "df5['hospedes'] = df5['hospedes'].apply(lambda x: 5 if x > 5 else x)\n",
    "\n",
    "#meses_ate_checkin\n",
    "df5['meses_ate_checkin'] = df5['meses_ate_checkin'].apply(lambda x: 12 if x > 12 else x)\n",
    "\n",
    "#pernoites\n",
    "df5['pernoites'] = df5['pernoites'].apply(lambda x: 20 if x > 20 else x)\n"
   ]
  },
  {
   "cell_type": "markdown",
   "id": "aa7a264b",
   "metadata": {
    "hidden": true
   },
   "source": [
    "## 5.2 Transform"
   ]
  },
  {
   "cell_type": "code",
   "execution_count": 106,
   "id": "550d61fc",
   "metadata": {
    "ExecuteTime": {
     "end_time": "2023-05-12T16:55:39.497284Z",
     "start_time": "2023-05-12T16:55:39.477054Z"
    },
    "hidden": true
   },
   "outputs": [],
   "source": [
    "df5 = data_transformation(df5)"
   ]
  },
  {
   "cell_type": "markdown",
   "id": "b7d3f8f1",
   "metadata": {
    "hidden": true
   },
   "source": [
    "## 5.3 Encoding"
   ]
  },
  {
   "cell_type": "code",
   "execution_count": 107,
   "id": "744b7c4a",
   "metadata": {
    "ExecuteTime": {
     "end_time": "2023-05-12T16:55:39.946884Z",
     "start_time": "2023-05-12T16:55:39.863797Z"
    },
    "hidden": true
   },
   "outputs": [],
   "source": [
    "df5 = data_encoding(df5)"
   ]
  },
  {
   "cell_type": "markdown",
   "id": "5b9a1ef2",
   "metadata": {
    "heading_collapsed": true
   },
   "source": [
    "# 6.0 FEATURE SELECTION"
   ]
  },
  {
   "cell_type": "markdown",
   "id": "d06635db",
   "metadata": {
    "hidden": true
   },
   "source": [
    "## 6.1 Split Validation and Train"
   ]
  },
  {
   "cell_type": "code",
   "execution_count": 108,
   "id": "64df17e0",
   "metadata": {
    "ExecuteTime": {
     "end_time": "2023-05-12T17:28:14.327014Z",
     "start_time": "2023-05-12T17:28:14.320927Z"
    },
    "hidden": true
   },
   "outputs": [],
   "source": [
    "df6 = df5.copy()"
   ]
  },
  {
   "cell_type": "code",
   "execution_count": 109,
   "id": "5aee9ad5",
   "metadata": {
    "ExecuteTime": {
     "end_time": "2023-05-12T17:28:14.917272Z",
     "start_time": "2023-05-12T17:28:14.905241Z"
    },
    "hidden": true
   },
   "outputs": [
    {
     "data": {
      "text/html": [
       "<div>\n",
       "<style scoped>\n",
       "    .dataframe tbody tr th:only-of-type {\n",
       "        vertical-align: middle;\n",
       "    }\n",
       "\n",
       "    .dataframe tbody tr th {\n",
       "        vertical-align: top;\n",
       "    }\n",
       "\n",
       "    .dataframe thead th {\n",
       "        text-align: right;\n",
       "    }\n",
       "</style>\n",
       "<table border=\"1\" class=\"dataframe\">\n",
       "  <thead>\n",
       "    <tr style=\"text-align: right;\">\n",
       "      <th></th>\n",
       "      <th>0</th>\n",
       "      <th>1</th>\n",
       "      <th>2</th>\n",
       "      <th>3</th>\n",
       "      <th>4</th>\n",
       "    </tr>\n",
       "  </thead>\n",
       "  <tbody>\n",
       "    <tr>\n",
       "      <th>id</th>\n",
       "      <td>0.279136</td>\n",
       "      <td>0.685633</td>\n",
       "      <td>0.782113</td>\n",
       "      <td>0.625249</td>\n",
       "      <td>0.689641</td>\n",
       "    </tr>\n",
       "    <tr>\n",
       "      <th>classificacao</th>\n",
       "      <td>5.000000</td>\n",
       "      <td>4.000000</td>\n",
       "      <td>4.000000</td>\n",
       "      <td>4.000000</td>\n",
       "      <td>4.000000</td>\n",
       "    </tr>\n",
       "    <tr>\n",
       "      <th>meses_ate_checkin</th>\n",
       "      <td>0.400000</td>\n",
       "      <td>1.800000</td>\n",
       "      <td>0.200000</td>\n",
       "      <td>1.800000</td>\n",
       "      <td>0.200000</td>\n",
       "    </tr>\n",
       "    <tr>\n",
       "      <th>pernoites</th>\n",
       "      <td>1.000000</td>\n",
       "      <td>0.000000</td>\n",
       "      <td>0.000000</td>\n",
       "      <td>-0.500000</td>\n",
       "      <td>-0.500000</td>\n",
       "    </tr>\n",
       "    <tr>\n",
       "      <th>hospedes</th>\n",
       "      <td>0.000000</td>\n",
       "      <td>0.000000</td>\n",
       "      <td>0.000000</td>\n",
       "      <td>0.000000</td>\n",
       "      <td>0.000000</td>\n",
       "    </tr>\n",
       "    <tr>\n",
       "      <th>nacionalidade</th>\n",
       "      <td>0.086628</td>\n",
       "      <td>0.489267</td>\n",
       "      <td>0.020289</td>\n",
       "      <td>0.489267</td>\n",
       "      <td>0.489267</td>\n",
       "    </tr>\n",
       "    <tr>\n",
       "      <th>ja_hospedou</th>\n",
       "      <td>0.000000</td>\n",
       "      <td>0.000000</td>\n",
       "      <td>0.000000</td>\n",
       "      <td>0.000000</td>\n",
       "      <td>0.000000</td>\n",
       "    </tr>\n",
       "    <tr>\n",
       "      <th>tipo_quarto</th>\n",
       "      <td>0.717554</td>\n",
       "      <td>0.717554</td>\n",
       "      <td>0.717554</td>\n",
       "      <td>0.717554</td>\n",
       "      <td>0.717554</td>\n",
       "    </tr>\n",
       "    <tr>\n",
       "      <th>reserva_agencia</th>\n",
       "      <td>1.000000</td>\n",
       "      <td>1.000000</td>\n",
       "      <td>1.000000</td>\n",
       "      <td>1.000000</td>\n",
       "      <td>1.000000</td>\n",
       "    </tr>\n",
       "    <tr>\n",
       "      <th>reserva_empresa</th>\n",
       "      <td>0.000000</td>\n",
       "      <td>0.000000</td>\n",
       "      <td>0.000000</td>\n",
       "      <td>0.000000</td>\n",
       "      <td>0.000000</td>\n",
       "    </tr>\n",
       "    <tr>\n",
       "      <th>reserva_estacionamento</th>\n",
       "      <td>1.000000</td>\n",
       "      <td>0.000000</td>\n",
       "      <td>0.000000</td>\n",
       "      <td>0.000000</td>\n",
       "      <td>0.000000</td>\n",
       "    </tr>\n",
       "    <tr>\n",
       "      <th>reserva_cancelada</th>\n",
       "      <td>0.000000</td>\n",
       "      <td>1.000000</td>\n",
       "      <td>0.000000</td>\n",
       "      <td>1.000000</td>\n",
       "      <td>1.000000</td>\n",
       "    </tr>\n",
       "    <tr>\n",
       "      <th>cafe_manha</th>\n",
       "      <td>0.000000</td>\n",
       "      <td>1.000000</td>\n",
       "      <td>1.000000</td>\n",
       "      <td>1.000000</td>\n",
       "      <td>1.000000</td>\n",
       "    </tr>\n",
       "    <tr>\n",
       "      <th>cafe_jantar</th>\n",
       "      <td>1.000000</td>\n",
       "      <td>0.000000</td>\n",
       "      <td>0.000000</td>\n",
       "      <td>0.000000</td>\n",
       "      <td>0.000000</td>\n",
       "    </tr>\n",
       "    <tr>\n",
       "      <th>cafe_almoco_jantar</th>\n",
       "      <td>0.000000</td>\n",
       "      <td>0.000000</td>\n",
       "      <td>0.000000</td>\n",
       "      <td>0.000000</td>\n",
       "      <td>0.000000</td>\n",
       "    </tr>\n",
       "    <tr>\n",
       "      <th>sem_refeicao</th>\n",
       "      <td>0.000000</td>\n",
       "      <td>0.000000</td>\n",
       "      <td>0.000000</td>\n",
       "      <td>0.000000</td>\n",
       "      <td>0.000000</td>\n",
       "    </tr>\n",
       "    <tr>\n",
       "      <th>obs_1_a_3</th>\n",
       "      <td>0.000000</td>\n",
       "      <td>0.000000</td>\n",
       "      <td>1.000000</td>\n",
       "      <td>0.000000</td>\n",
       "      <td>0.000000</td>\n",
       "    </tr>\n",
       "    <tr>\n",
       "      <th>obs_mais_3</th>\n",
       "      <td>0.000000</td>\n",
       "      <td>0.000000</td>\n",
       "      <td>0.000000</td>\n",
       "      <td>0.000000</td>\n",
       "      <td>0.000000</td>\n",
       "    </tr>\n",
       "    <tr>\n",
       "      <th>obs_nenhuma</th>\n",
       "      <td>1.000000</td>\n",
       "      <td>1.000000</td>\n",
       "      <td>0.000000</td>\n",
       "      <td>1.000000</td>\n",
       "      <td>1.000000</td>\n",
       "    </tr>\n",
       "    <tr>\n",
       "      <th>forma_reserva_agencia</th>\n",
       "      <td>1.000000</td>\n",
       "      <td>1.000000</td>\n",
       "      <td>1.000000</td>\n",
       "      <td>1.000000</td>\n",
       "      <td>1.000000</td>\n",
       "    </tr>\n",
       "    <tr>\n",
       "      <th>forma_reserva_b2b</th>\n",
       "      <td>0.000000</td>\n",
       "      <td>0.000000</td>\n",
       "      <td>0.000000</td>\n",
       "      <td>0.000000</td>\n",
       "      <td>0.000000</td>\n",
       "    </tr>\n",
       "    <tr>\n",
       "      <th>forma_reserva_balcao</th>\n",
       "      <td>0.000000</td>\n",
       "      <td>0.000000</td>\n",
       "      <td>0.000000</td>\n",
       "      <td>0.000000</td>\n",
       "      <td>0.000000</td>\n",
       "    </tr>\n",
       "  </tbody>\n",
       "</table>\n",
       "</div>"
      ],
      "text/plain": [
       "                               0         1         2         3         4\n",
       "id                      0.279136  0.685633  0.782113  0.625249  0.689641\n",
       "classificacao           5.000000  4.000000  4.000000  4.000000  4.000000\n",
       "meses_ate_checkin       0.400000  1.800000  0.200000  1.800000  0.200000\n",
       "pernoites               1.000000  0.000000  0.000000 -0.500000 -0.500000\n",
       "hospedes                0.000000  0.000000  0.000000  0.000000  0.000000\n",
       "nacionalidade           0.086628  0.489267  0.020289  0.489267  0.489267\n",
       "ja_hospedou             0.000000  0.000000  0.000000  0.000000  0.000000\n",
       "tipo_quarto             0.717554  0.717554  0.717554  0.717554  0.717554\n",
       "reserva_agencia         1.000000  1.000000  1.000000  1.000000  1.000000\n",
       "reserva_empresa         0.000000  0.000000  0.000000  0.000000  0.000000\n",
       "reserva_estacionamento  1.000000  0.000000  0.000000  0.000000  0.000000\n",
       "reserva_cancelada       0.000000  1.000000  0.000000  1.000000  1.000000\n",
       "cafe_manha              0.000000  1.000000  1.000000  1.000000  1.000000\n",
       "cafe_jantar             1.000000  0.000000  0.000000  0.000000  0.000000\n",
       "cafe_almoco_jantar      0.000000  0.000000  0.000000  0.000000  0.000000\n",
       "sem_refeicao            0.000000  0.000000  0.000000  0.000000  0.000000\n",
       "obs_1_a_3               0.000000  0.000000  1.000000  0.000000  0.000000\n",
       "obs_mais_3              0.000000  0.000000  0.000000  0.000000  0.000000\n",
       "obs_nenhuma             1.000000  1.000000  0.000000  1.000000  1.000000\n",
       "forma_reserva_agencia   1.000000  1.000000  1.000000  1.000000  1.000000\n",
       "forma_reserva_b2b       0.000000  0.000000  0.000000  0.000000  0.000000\n",
       "forma_reserva_balcao    0.000000  0.000000  0.000000  0.000000  0.000000"
      ]
     },
     "execution_count": 109,
     "metadata": {},
     "output_type": "execute_result"
    }
   ],
   "source": [
    "df6.head().T"
   ]
  },
  {
   "cell_type": "code",
   "execution_count": 110,
   "id": "19596120",
   "metadata": {
    "ExecuteTime": {
     "end_time": "2023-05-12T17:28:19.258294Z",
     "start_time": "2023-05-12T17:28:19.224021Z"
    },
    "hidden": true
   },
   "outputs": [],
   "source": [
    "X = df6.copy()\n",
    "y = df6['reserva_cancelada']\n",
    "\n",
    "X_train, X_val, y_train, y_val = ms.train_test_split(X, y, test_size=0.25, random_state=42)\n",
    "X_train = X_train.drop('reserva_cancelada', axis=1)"
   ]
  },
  {
   "cell_type": "markdown",
   "id": "878da0e7",
   "metadata": {
    "ExecuteTime": {
     "end_time": "2023-05-12T12:26:57.960053Z",
     "start_time": "2023-05-12T12:26:57.949950Z"
    },
    "hidden": true
   },
   "source": [
    "## 6.2 Boruta"
   ]
  },
  {
   "cell_type": "code",
   "execution_count": 111,
   "id": "56ddadcc",
   "metadata": {
    "ExecuteTime": {
     "end_time": "2023-05-12T17:28:24.768491Z",
     "start_time": "2023-05-12T17:28:24.752954Z"
    },
    "hidden": true
   },
   "outputs": [],
   "source": [
    "rf = RandomForestClassifier(n_jobs=-1)"
   ]
  },
  {
   "cell_type": "code",
   "execution_count": 112,
   "id": "3b2048c2",
   "metadata": {
    "ExecuteTime": {
     "end_time": "2023-05-12T17:28:25.096064Z",
     "start_time": "2023-05-12T17:28:25.084867Z"
    },
    "hidden": true
   },
   "outputs": [],
   "source": [
    "X_train_n = X_train.values\n",
    "y_train_n = y_train.values"
   ]
  },
  {
   "cell_type": "code",
   "execution_count": 113,
   "id": "591d8387",
   "metadata": {
    "ExecuteTime": {
     "end_time": "2023-05-12T17:28:33.445986Z",
     "start_time": "2023-05-12T17:28:28.264118Z"
    },
    "hidden": true
   },
   "outputs": [],
   "source": [
    "# boruta = BorutaPy(rf, n_estimators='auto', verbose=2, random_state=42).fit(X_train_n, y_train_n)"
   ]
  },
  {
   "cell_type": "code",
   "execution_count": 114,
   "id": "c3eca118",
   "metadata": {
    "ExecuteTime": {
     "end_time": "2023-05-12T17:28:36.493774Z",
     "start_time": "2023-05-12T17:28:36.484935Z"
    },
    "hidden": true
   },
   "outputs": [],
   "source": [
    "# cols_boruta = boruta.support_\n",
    "# cols_boruta"
   ]
  },
  {
   "cell_type": "markdown",
   "id": "fac998a0",
   "metadata": {
    "hidden": true
   },
   "source": [
    "## 6.3 ExtraTree"
   ]
  },
  {
   "cell_type": "code",
   "execution_count": 115,
   "id": "e8dc7816",
   "metadata": {
    "ExecuteTime": {
     "end_time": "2023-05-12T17:28:41.008614Z",
     "start_time": "2023-05-12T17:28:40.586393Z"
    },
    "hidden": true
   },
   "outputs": [],
   "source": [
    "# et = ExtraTreesClassifier(n_jobs=-1)\n",
    "\n",
    "# et.fit(X_train_n, y_train_n)"
   ]
  },
  {
   "cell_type": "code",
   "execution_count": 116,
   "id": "97378fc4",
   "metadata": {
    "ExecuteTime": {
     "end_time": "2023-05-12T17:28:43.101561Z",
     "start_time": "2023-05-12T17:28:43.086158Z"
    },
    "hidden": true
   },
   "outputs": [],
   "source": [
    "# importance = et.feature_importances_"
   ]
  },
  {
   "cell_type": "code",
   "execution_count": 117,
   "id": "b61a6ac6",
   "metadata": {
    "ExecuteTime": {
     "end_time": "2023-05-12T17:28:43.599390Z",
     "start_time": "2023-05-12T17:28:43.583180Z"
    },
    "hidden": true
   },
   "outputs": [],
   "source": [
    "# features = pd.DataFrame(importance).reset_index()\n",
    "# cols_x_train = pd.DataFrame(X_train.columns).reset_index()"
   ]
  },
  {
   "cell_type": "code",
   "execution_count": 118,
   "id": "a81c13dd",
   "metadata": {
    "ExecuteTime": {
     "end_time": "2023-05-12T16:57:10.919587Z",
     "start_time": "2023-05-12T16:57:10.894610Z"
    },
    "hidden": true
   },
   "outputs": [],
   "source": [
    "# order_features = pd.merge(cols_x_train, features, on='index')\n",
    "# order_features = order_features.rename(columns={'0_x':'Feature', '0_y':'Importance'})\n",
    "# order_features.drop('index', axis=1)\n",
    "# order_features.sort_values(by='Importance', ascending=False)"
   ]
  },
  {
   "cell_type": "code",
   "execution_count": 119,
   "id": "e7a5b491",
   "metadata": {
    "ExecuteTime": {
     "end_time": "2023-05-12T17:28:46.705658Z",
     "start_time": "2023-05-12T17:28:46.693917Z"
    },
    "hidden": true
   },
   "outputs": [],
   "source": [
    "cols_selected_tree = ['id', 'nacionalidade', 'meses_ate_checkin', 'pernoites',\n",
    "       'classificacao', 'obs_nenhuma', 'reserva_estacionamento', 'obs_1_a_3',\n",
    "       'hospedes', 'forma_reserva_agencia', 'tipo_quarto','forma_reserva_balcao']"
   ]
  },
  {
   "cell_type": "markdown",
   "id": "ff642225",
   "metadata": {
    "heading_collapsed": true
   },
   "source": [
    "# 7.0 MACHINE LEARNING"
   ]
  },
  {
   "cell_type": "code",
   "execution_count": 54,
   "id": "eb8c8c46",
   "metadata": {
    "ExecuteTime": {
     "end_time": "2023-05-12T16:59:48.350917Z",
     "start_time": "2023-05-12T16:59:48.340904Z"
    },
    "hidden": true
   },
   "outputs": [],
   "source": [
    "x_train = X_train.loc[:,cols_selected_tree]\n",
    "x_val = X_val.loc[:,cols_selected_tree]"
   ]
  },
  {
   "cell_type": "code",
   "execution_count": 55,
   "id": "435f8318",
   "metadata": {
    "ExecuteTime": {
     "end_time": "2023-05-12T16:59:49.441624Z",
     "start_time": "2023-05-12T16:59:49.424797Z"
    },
    "hidden": true
   },
   "outputs": [
    {
     "data": {
      "text/html": [
       "<div>\n",
       "<style scoped>\n",
       "    .dataframe tbody tr th:only-of-type {\n",
       "        vertical-align: middle;\n",
       "    }\n",
       "\n",
       "    .dataframe tbody tr th {\n",
       "        vertical-align: top;\n",
       "    }\n",
       "\n",
       "    .dataframe thead th {\n",
       "        text-align: right;\n",
       "    }\n",
       "</style>\n",
       "<table border=\"1\" class=\"dataframe\">\n",
       "  <thead>\n",
       "    <tr style=\"text-align: right;\">\n",
       "      <th></th>\n",
       "      <th>24653</th>\n",
       "      <th>70034</th>\n",
       "      <th>28938</th>\n",
       "      <th>64197</th>\n",
       "      <th>35979</th>\n",
       "    </tr>\n",
       "  </thead>\n",
       "  <tbody>\n",
       "    <tr>\n",
       "      <th>id</th>\n",
       "      <td>0.406921</td>\n",
       "      <td>0.097411</td>\n",
       "      <td>0.398964</td>\n",
       "      <td>0.998952</td>\n",
       "      <td>0.353231</td>\n",
       "    </tr>\n",
       "    <tr>\n",
       "      <th>classificacao</th>\n",
       "      <td>4.000000</td>\n",
       "      <td>5.000000</td>\n",
       "      <td>4.000000</td>\n",
       "      <td>4.000000</td>\n",
       "      <td>4.000000</td>\n",
       "    </tr>\n",
       "    <tr>\n",
       "      <th>meses_ate_checkin</th>\n",
       "      <td>-0.200000</td>\n",
       "      <td>-0.200000</td>\n",
       "      <td>-0.400000</td>\n",
       "      <td>0.200000</td>\n",
       "      <td>-0.400000</td>\n",
       "    </tr>\n",
       "    <tr>\n",
       "      <th>pernoites</th>\n",
       "      <td>0.500000</td>\n",
       "      <td>-1.000000</td>\n",
       "      <td>0.000000</td>\n",
       "      <td>0.500000</td>\n",
       "      <td>-0.500000</td>\n",
       "    </tr>\n",
       "    <tr>\n",
       "      <th>hospedes</th>\n",
       "      <td>0.000000</td>\n",
       "      <td>0.000000</td>\n",
       "      <td>-1.000000</td>\n",
       "      <td>0.000000</td>\n",
       "      <td>0.000000</td>\n",
       "    </tr>\n",
       "    <tr>\n",
       "      <th>nacionalidade</th>\n",
       "      <td>0.010782</td>\n",
       "      <td>0.007774</td>\n",
       "      <td>0.489267</td>\n",
       "      <td>0.086628</td>\n",
       "      <td>0.489267</td>\n",
       "    </tr>\n",
       "    <tr>\n",
       "      <th>ja_hospedou</th>\n",
       "      <td>0.000000</td>\n",
       "      <td>0.000000</td>\n",
       "      <td>0.000000</td>\n",
       "      <td>0.000000</td>\n",
       "      <td>0.000000</td>\n",
       "    </tr>\n",
       "    <tr>\n",
       "      <th>tipo_quarto</th>\n",
       "      <td>0.009327</td>\n",
       "      <td>0.717554</td>\n",
       "      <td>0.717554</td>\n",
       "      <td>0.163500</td>\n",
       "      <td>0.717554</td>\n",
       "    </tr>\n",
       "    <tr>\n",
       "      <th>reserva_agencia</th>\n",
       "      <td>1.000000</td>\n",
       "      <td>1.000000</td>\n",
       "      <td>1.000000</td>\n",
       "      <td>1.000000</td>\n",
       "      <td>1.000000</td>\n",
       "    </tr>\n",
       "    <tr>\n",
       "      <th>reserva_empresa</th>\n",
       "      <td>0.000000</td>\n",
       "      <td>0.000000</td>\n",
       "      <td>0.000000</td>\n",
       "      <td>0.000000</td>\n",
       "      <td>0.000000</td>\n",
       "    </tr>\n",
       "    <tr>\n",
       "      <th>reserva_estacionamento</th>\n",
       "      <td>0.000000</td>\n",
       "      <td>0.000000</td>\n",
       "      <td>0.000000</td>\n",
       "      <td>0.000000</td>\n",
       "      <td>0.000000</td>\n",
       "    </tr>\n",
       "    <tr>\n",
       "      <th>cafe_manha</th>\n",
       "      <td>1.000000</td>\n",
       "      <td>0.000000</td>\n",
       "      <td>1.000000</td>\n",
       "      <td>1.000000</td>\n",
       "      <td>1.000000</td>\n",
       "    </tr>\n",
       "    <tr>\n",
       "      <th>cafe_jantar</th>\n",
       "      <td>0.000000</td>\n",
       "      <td>1.000000</td>\n",
       "      <td>0.000000</td>\n",
       "      <td>0.000000</td>\n",
       "      <td>0.000000</td>\n",
       "    </tr>\n",
       "    <tr>\n",
       "      <th>cafe_almoco_jantar</th>\n",
       "      <td>0.000000</td>\n",
       "      <td>0.000000</td>\n",
       "      <td>0.000000</td>\n",
       "      <td>0.000000</td>\n",
       "      <td>0.000000</td>\n",
       "    </tr>\n",
       "    <tr>\n",
       "      <th>sem_refeicao</th>\n",
       "      <td>0.000000</td>\n",
       "      <td>0.000000</td>\n",
       "      <td>0.000000</td>\n",
       "      <td>0.000000</td>\n",
       "      <td>0.000000</td>\n",
       "    </tr>\n",
       "    <tr>\n",
       "      <th>obs_1_a_3</th>\n",
       "      <td>1.000000</td>\n",
       "      <td>1.000000</td>\n",
       "      <td>0.000000</td>\n",
       "      <td>1.000000</td>\n",
       "      <td>1.000000</td>\n",
       "    </tr>\n",
       "    <tr>\n",
       "      <th>obs_mais_3</th>\n",
       "      <td>0.000000</td>\n",
       "      <td>0.000000</td>\n",
       "      <td>0.000000</td>\n",
       "      <td>0.000000</td>\n",
       "      <td>0.000000</td>\n",
       "    </tr>\n",
       "    <tr>\n",
       "      <th>obs_nenhuma</th>\n",
       "      <td>0.000000</td>\n",
       "      <td>0.000000</td>\n",
       "      <td>1.000000</td>\n",
       "      <td>0.000000</td>\n",
       "      <td>0.000000</td>\n",
       "    </tr>\n",
       "    <tr>\n",
       "      <th>forma_reserva_agencia</th>\n",
       "      <td>1.000000</td>\n",
       "      <td>1.000000</td>\n",
       "      <td>1.000000</td>\n",
       "      <td>1.000000</td>\n",
       "      <td>1.000000</td>\n",
       "    </tr>\n",
       "    <tr>\n",
       "      <th>forma_reserva_b2b</th>\n",
       "      <td>0.000000</td>\n",
       "      <td>0.000000</td>\n",
       "      <td>0.000000</td>\n",
       "      <td>0.000000</td>\n",
       "      <td>0.000000</td>\n",
       "    </tr>\n",
       "    <tr>\n",
       "      <th>forma_reserva_balcao</th>\n",
       "      <td>0.000000</td>\n",
       "      <td>0.000000</td>\n",
       "      <td>0.000000</td>\n",
       "      <td>0.000000</td>\n",
       "      <td>0.000000</td>\n",
       "    </tr>\n",
       "  </tbody>\n",
       "</table>\n",
       "</div>"
      ],
      "text/plain": [
       "                           24653     70034     28938     64197     35979\n",
       "id                      0.406921  0.097411  0.398964  0.998952  0.353231\n",
       "classificacao           4.000000  5.000000  4.000000  4.000000  4.000000\n",
       "meses_ate_checkin      -0.200000 -0.200000 -0.400000  0.200000 -0.400000\n",
       "pernoites               0.500000 -1.000000  0.000000  0.500000 -0.500000\n",
       "hospedes                0.000000  0.000000 -1.000000  0.000000  0.000000\n",
       "nacionalidade           0.010782  0.007774  0.489267  0.086628  0.489267\n",
       "ja_hospedou             0.000000  0.000000  0.000000  0.000000  0.000000\n",
       "tipo_quarto             0.009327  0.717554  0.717554  0.163500  0.717554\n",
       "reserva_agencia         1.000000  1.000000  1.000000  1.000000  1.000000\n",
       "reserva_empresa         0.000000  0.000000  0.000000  0.000000  0.000000\n",
       "reserva_estacionamento  0.000000  0.000000  0.000000  0.000000  0.000000\n",
       "cafe_manha              1.000000  0.000000  1.000000  1.000000  1.000000\n",
       "cafe_jantar             0.000000  1.000000  0.000000  0.000000  0.000000\n",
       "cafe_almoco_jantar      0.000000  0.000000  0.000000  0.000000  0.000000\n",
       "sem_refeicao            0.000000  0.000000  0.000000  0.000000  0.000000\n",
       "obs_1_a_3               1.000000  1.000000  0.000000  1.000000  1.000000\n",
       "obs_mais_3              0.000000  0.000000  0.000000  0.000000  0.000000\n",
       "obs_nenhuma             0.000000  0.000000  1.000000  0.000000  0.000000\n",
       "forma_reserva_agencia   1.000000  1.000000  1.000000  1.000000  1.000000\n",
       "forma_reserva_b2b       0.000000  0.000000  0.000000  0.000000  0.000000\n",
       "forma_reserva_balcao    0.000000  0.000000  0.000000  0.000000  0.000000"
      ]
     },
     "execution_count": 55,
     "metadata": {},
     "output_type": "execute_result"
    }
   ],
   "source": [
    "X_train.head().T"
   ]
  },
  {
   "cell_type": "markdown",
   "id": "72efcc21",
   "metadata": {
    "hidden": true
   },
   "source": [
    "## Testing models"
   ]
  },
  {
   "cell_type": "code",
   "execution_count": 56,
   "id": "db1a1867",
   "metadata": {
    "hidden": true
   },
   "outputs": [],
   "source": [
    "model_list = [  DummyClassifier(),\n",
    "                LogisticRegression(),\n",
    "                DecisionTreeClassifier(),\n",
    "                KNeighborsClassifier(),\n",
    "                GaussianNB(),\n",
    "                RandomForestClassifier(),\n",
    "                XGBClassifier()]"
   ]
  },
  {
   "cell_type": "code",
   "execution_count": 57,
   "id": "333bf7c8",
   "metadata": {
    "hidden": true
   },
   "outputs": [
    {
     "name": "stdout",
     "output_type": "stream",
     "text": [
      "DummyClassifier(): Score: 0.634%\n"
     ]
    },
    {
     "name": "stderr",
     "output_type": "stream",
     "text": [
      "C:\\Users\\edils\\anaconda3\\envs\\hotel_chain_cancellation\\lib\\site-packages\\sklearn\\linear_model\\_logistic.py:458: ConvergenceWarning: lbfgs failed to converge (status=1):\n",
      "STOP: TOTAL NO. of ITERATIONS REACHED LIMIT.\n",
      "\n",
      "Increase the number of iterations (max_iter) or scale the data as shown in:\n",
      "    https://scikit-learn.org/stable/modules/preprocessing.html\n",
      "Please also refer to the documentation for alternative solver options:\n",
      "    https://scikit-learn.org/stable/modules/linear_model.html#logistic-regression\n",
      "  n_iter_i = _check_optimize_result(\n"
     ]
    },
    {
     "name": "stdout",
     "output_type": "stream",
     "text": [
      "LogisticRegression(): Score: 0.848%\n",
      "DecisionTreeClassifier(): Score: 0.965%\n",
      "KNeighborsClassifier(): Score: 0.904%\n",
      "GaussianNB(): Score: 0.473%\n",
      "RandomForestClassifier(): Score: 0.970%\n",
      "XGBClassifier(base_score=0.5, booster='gbtree', callbacks=None,\n",
      "              colsample_bylevel=1, colsample_bynode=1, colsample_bytree=1,\n",
      "              early_stopping_rounds=None, enable_categorical=False,\n",
      "              eval_metric=None, gamma=0, gpu_id=-1, grow_policy='depthwise',\n",
      "              importance_type=None, interaction_constraints='',\n",
      "              learning_rate=0.300000012, max_bin=256, max_cat_to_onehot=4,\n",
      "              max_delta_step=0, max_depth=6, max_leaves=0, min_child_weight=1,\n",
      "              missing=nan, monotone_constraints='()', n_estimators=100,\n",
      "              n_jobs=0, num_parallel_tree=1, predictor='auto', random_state=0,\n",
      "              reg_alpha=0, reg_lambda=1, ...): Score: 0.970%\n"
     ]
    }
   ],
   "source": [
    "for model in model_list:\n",
    "    model.fit(x_train, y_train)\n",
    "    score = model.score(x_val, y_val)\n",
    "    print(f'{model}: Score: {score:.3f}%')"
   ]
  },
  {
   "cell_type": "markdown",
   "id": "52b949f6",
   "metadata": {
    "hidden": true
   },
   "source": [
    "## 7.1 KNN"
   ]
  },
  {
   "cell_type": "code",
   "execution_count": 58,
   "id": "b38872fb",
   "metadata": {
    "ExecuteTime": {
     "end_time": "2023-05-12T16:59:56.673634Z",
     "start_time": "2023-05-12T16:59:55.657987Z"
    },
    "hidden": true
   },
   "outputs": [],
   "source": [
    "model_knn = KNeighborsClassifier(n_neighbors=3)\n",
    "\n",
    "model_knn.fit(x_train, y_train)\n",
    "\n",
    "yhat_knn = model_knn.predict(x_val)\n"
   ]
  },
  {
   "cell_type": "code",
   "execution_count": 59,
   "id": "f5b33436",
   "metadata": {
    "hidden": true
   },
   "outputs": [
    {
     "name": "stdout",
     "output_type": "stream",
     "text": [
      " KNN F1 Macro: 90.22%\n",
      " KNN Acurácia: 90.92%\n",
      " KNN Precision: 87.70%\n",
      " KNN Recall: 87.48%\n"
     ]
    }
   ],
   "source": [
    "model_performance('KNN', yhat_knn, y_val)"
   ]
  },
  {
   "cell_type": "markdown",
   "id": "acfac178",
   "metadata": {
    "hidden": true
   },
   "source": [
    "## 7.2 Random Forest"
   ]
  },
  {
   "cell_type": "code",
   "execution_count": null,
   "id": "c6eceea7",
   "metadata": {
    "ExecuteTime": {
     "end_time": "2023-05-12T17:00:03.376732Z",
     "start_time": "2023-05-12T17:00:02.859798Z"
    },
    "hidden": true
   },
   "outputs": [],
   "source": [
    "model_rf = RandomForestClassifier(n_jobs=-1)\n",
    "\n",
    "model_rf.fit(x_train, y_train)\n",
    "\n",
    "yhat_rf = model_rf.predict(x_val)"
   ]
  },
  {
   "cell_type": "code",
   "execution_count": null,
   "id": "9e7dbe89",
   "metadata": {
    "ExecuteTime": {
     "end_time": "2023-05-12T17:16:11.119362Z",
     "start_time": "2023-05-12T17:16:11.079481Z"
    },
    "hidden": true
   },
   "outputs": [],
   "source": [
    "model_performance('Random Forest', yhat_rf, y_val)"
   ]
  },
  {
   "cell_type": "markdown",
   "id": "6912329e",
   "metadata": {
    "hidden": true
   },
   "source": [
    "## 7.3 XGBoost"
   ]
  },
  {
   "cell_type": "code",
   "execution_count": null,
   "id": "14215410",
   "metadata": {
    "ExecuteTime": {
     "end_time": "2023-05-12T17:00:09.615452Z",
     "start_time": "2023-05-12T17:00:08.039044Z"
    },
    "hidden": true
   },
   "outputs": [],
   "source": [
    "model_xgb = XGBClassifier()\n",
    "\n",
    "model_xgb.fit(x_train, y_train)\n",
    "\n",
    "yhat_xgb = model_xgb.predict(x_val)"
   ]
  },
  {
   "cell_type": "code",
   "execution_count": null,
   "id": "a8668a31",
   "metadata": {
    "ExecuteTime": {
     "end_time": "2023-05-12T17:16:56.958767Z",
     "start_time": "2023-05-12T17:16:56.928580Z"
    },
    "hidden": true
   },
   "outputs": [],
   "source": [
    "model_performance('XGBoost', yhat_xgb, y_val)"
   ]
  },
  {
   "cell_type": "markdown",
   "id": "4dbf8382",
   "metadata": {
    "hidden": true
   },
   "source": [
    "## 7.5 Cross Validation"
   ]
  },
  {
   "cell_type": "code",
   "execution_count": null,
   "id": "4d6f3b93",
   "metadata": {
    "ExecuteTime": {
     "end_time": "2023-05-12T17:32:49.222687Z",
     "start_time": "2023-05-12T17:32:45.562021Z"
    },
    "hidden": true
   },
   "outputs": [],
   "source": [
    "#Pontuação Random Forest\n",
    "pontuacao_rf = ms.cross_val_score(model_rf, X, y, cv=10, n_jobs=-1)\n"
   ]
  },
  {
   "cell_type": "code",
   "execution_count": null,
   "id": "ff8e22bc",
   "metadata": {
    "ExecuteTime": {
     "end_time": "2023-05-12T17:33:01.131222Z",
     "start_time": "2023-05-12T17:33:01.128071Z"
    },
    "hidden": true
   },
   "outputs": [],
   "source": [
    "np.mean(pontuacao_rf)"
   ]
  },
  {
   "cell_type": "code",
   "execution_count": null,
   "id": "ab71dc66",
   "metadata": {
    "hidden": true
   },
   "outputs": [],
   "source": [
    "#Pontuação XGBoost\n",
    "pontuacao_xgb = ms.cross_val_score(model_xgb, X, y, cv=10, n_jobs=-1)"
   ]
  },
  {
   "cell_type": "code",
   "execution_count": null,
   "id": "82dc9bfe",
   "metadata": {
    "ExecuteTime": {
     "end_time": "2023-05-12T17:34:24.683674Z",
     "start_time": "2023-05-12T17:34:16.209186Z"
    },
    "hidden": true
   },
   "outputs": [],
   "source": [
    "\n",
    "np.mean(pontuacao_xgb)"
   ]
  },
  {
   "cell_type": "markdown",
   "id": "5a1177e3",
   "metadata": {
    "hidden": true
   },
   "source": [
    "## 7.6 Fine Tunning"
   ]
  },
  {
   "cell_type": "markdown",
   "id": "ddbe48da",
   "metadata": {
    "hidden": true
   },
   "source": [
    "### 7.6.1 Random Search"
   ]
  },
  {
   "cell_type": "code",
   "execution_count": null,
   "id": "7742f48d",
   "metadata": {
    "ExecuteTime": {
     "end_time": "2023-05-12T19:29:17.925975Z",
     "start_time": "2023-05-12T19:28:26.342524Z"
    },
    "hidden": true
   },
   "outputs": [],
   "source": [
    "\n",
    "\n",
    "# param_distributions = {'max_depth': [2, 4, 6, 8, 9], \n",
    "#                        'learning_rate': [0.01, 0.05, 0.10, 0.2, 0.4], \n",
    "#                        'n_estimators': [1200, 1800, 2500, 3500, 5000], \n",
    "#                        'subsample': [0.1, 0.25, 0.5, 0.75, 1.0], \n",
    "#                        'colsample_bytree':[0.1, 0.25, 0.5, 0.75, 1.0]}\n",
    "# #RandomSearch Dfinition\n",
    "# random_search = RandomizedSearchCV(model_xgb, param_distributions=param_distributions, n_iter=5, cv=5)\n",
    "\n",
    "# random_search.fit(x_train, y_train)"
   ]
  },
  {
   "cell_type": "code",
   "execution_count": null,
   "id": "b3b03470",
   "metadata": {
    "ExecuteTime": {
     "end_time": "2023-05-12T19:31:27.275939Z",
     "start_time": "2023-05-12T19:31:27.272902Z"
    },
    "hidden": true
   },
   "outputs": [],
   "source": [
    "# best_params = random_search.best_params_\n",
    "# best_score = random_search.best_score_\n",
    "\n",
    "# print(best_params)\n",
    "# print(best_score)"
   ]
  },
  {
   "cell_type": "markdown",
   "id": "e2f75f0c",
   "metadata": {
    "hidden": true
   },
   "source": [
    "## 7.7 XGBoost Best Parameters"
   ]
  },
  {
   "cell_type": "code",
   "execution_count": 63,
   "id": "3d2eb68f",
   "metadata": {
    "ExecuteTime": {
     "end_time": "2023-05-12T20:11:36.057037Z",
     "start_time": "2023-05-12T20:11:36.054035Z"
    },
    "hidden": true
   },
   "outputs": [],
   "source": [
    "xgb_tunned = XGBClassifier(n_estimators=1800, max_depth=8, learning_rate=0.05, colsample_bytree=0.5, subsample=0.75)"
   ]
  },
  {
   "cell_type": "markdown",
   "id": "cdae2164",
   "metadata": {},
   "source": [
    "# 8.0 MODEL PERFORMANCE"
   ]
  },
  {
   "cell_type": "markdown",
   "id": "59a75052",
   "metadata": {},
   "source": [
    "## 8.1 Cleaning Test Data"
   ]
  },
  {
   "cell_type": "code",
   "execution_count": null,
   "id": "e0277dc3",
   "metadata": {
    "ExecuteTime": {
     "end_time": "2023-05-12T20:05:36.552453Z",
     "start_time": "2023-05-12T20:05:36.477802Z"
    }
   },
   "outputs": [],
   "source": [
    "X_test = pd.read_csv(path + 'test.csv')"
   ]
  },
  {
   "cell_type": "code",
   "execution_count": null,
   "id": "09e00814",
   "metadata": {
    "ExecuteTime": {
     "end_time": "2023-05-12T20:05:50.790628Z",
     "start_time": "2023-05-12T20:05:50.773369Z"
    }
   },
   "outputs": [],
   "source": [
    "X_test.head()"
   ]
  },
  {
   "cell_type": "code",
   "execution_count": null,
   "id": "d8c804c5",
   "metadata": {
    "ExecuteTime": {
     "end_time": "2023-05-12T20:05:47.444965Z",
     "start_time": "2023-05-12T20:05:47.311620Z"
    }
   },
   "outputs": [],
   "source": [
    "X_test = rename_columns(X_test)\n",
    "X_test = na_fill(X_test)\n",
    "X_test = change_types(X_test)\n",
    "X_test = data_transformation(X_test)\n",
    "X_test = data_encoding(X_test)"
   ]
  },
  {
   "cell_type": "code",
   "execution_count": null,
   "id": "a4108352",
   "metadata": {
    "ExecuteTime": {
     "end_time": "2023-05-12T20:08:40.867972Z",
     "start_time": "2023-05-12T20:08:40.852739Z"
    }
   },
   "outputs": [],
   "source": [
    "x_test = X_test.loc[:, cols_selected_tree]"
   ]
  },
  {
   "cell_type": "code",
   "execution_count": null,
   "id": "efd044c2",
   "metadata": {},
   "outputs": [],
   "source": [
    "x = X.loc[:,cols_selected_tree]"
   ]
  },
  {
   "cell_type": "markdown",
   "id": "46914945",
   "metadata": {},
   "source": [
    "## 8.2 Testing on Raw Data"
   ]
  },
  {
   "cell_type": "code",
   "execution_count": null,
   "id": "35259fff",
   "metadata": {
    "ExecuteTime": {
     "end_time": "2023-05-12T20:13:54.260271Z",
     "start_time": "2023-05-12T20:13:40.433911Z"
    }
   },
   "outputs": [],
   "source": [
    "xgb_tunned.fit(x, y)\n",
    "\n",
    "yhat_xgb_tunned = xgb_tunned.predict(x_test)"
   ]
  },
  {
   "cell_type": "markdown",
   "id": "f4604181",
   "metadata": {},
   "source": [
    "## 8.2 Submissão"
   ]
  },
  {
   "cell_type": "code",
   "execution_count": null,
   "id": "8480074a",
   "metadata": {
    "ExecuteTime": {
     "end_time": "2023-05-12T20:20:55.715551Z",
     "start_time": "2023-05-12T20:20:55.692080Z"
    }
   },
   "outputs": [],
   "source": [
    "submission = pd.read_csv(path + 'submission.csv')\n",
    "submission['Reserva Cancelada'] = yhat_xgb_tunned\n",
    "submission.to_csv('submissão_terceira_train_val_merge.csv', index=False)"
   ]
  },
  {
   "cell_type": "markdown",
   "id": "c1a26e24",
   "metadata": {},
   "source": [
    "# 9.0 Deploy to Production"
   ]
  },
  {
   "cell_type": "code",
   "execution_count": 66,
   "id": "655af203",
   "metadata": {},
   "outputs": [],
   "source": [
    "pickle.dump( xgb_tunned, open ('C:/Users/edils/repos/hotel_chain_cancellation/src/models/model_xgb.pkl', 'wb'))"
   ]
  },
  {
   "cell_type": "markdown",
   "id": "9081136a",
   "metadata": {},
   "source": [
    "## 9.1 Hotel Chain Cancellation Class"
   ]
  },
  {
   "cell_type": "code",
   "execution_count": 120,
   "id": "d07e2418",
   "metadata": {},
   "outputs": [],
   "source": [
    "class HotelCancellation:\n",
    "    def __init__(self):\n",
    "        self.home_path                = 'C:/Users/edils/repos/hotel_chain_cancellation/'\n",
    "        \n",
    "        self.hospedes_scaler          = pickle.load(open(self.home_path + 'src/features/hospedes_scaler.pkl', 'rb'))\n",
    "        self.id_scaler                = pickle.load(open(self.home_path + 'src/features/id_scaler.pkl', 'rb'))        \n",
    "        self.meses_ate_checkin_scaler = pickle.load(open(self.home_path + 'src/features/meses_ate_checkin_scaler.pkl', 'rb'))        \n",
    "        self.nacionalidade_scaler     = pickle.load(open(self.home_path + 'src/features/nacionalidade_scaler.pkl', 'rb'))        \n",
    "        self.pernoites_scaler         = pickle.load(open(self.home_path + 'src/features/pernoites_scaler.pkl', 'rb'))        \n",
    "        self.tipo_quarto_scaler       = pickle.load(open(self.home_path + 'src/features/tipo_quarto_scaler.pkl', 'rb')) \n",
    "        \n",
    "    def rename_columns(df1):\n",
    "    valores_dict = ['id',\n",
    "                'classificacao', \n",
    "                'meses_ate_checkin', \n",
    "                'pernoites', \n",
    "                'hospedes', \n",
    "                'regime_alimentacao',\n",
    "                'nacionalidade', \n",
    "                'forma_reserva', \n",
    "                'ja_hospedou',\n",
    "                'tipo_quarto',\n",
    "                'reserva_agencia',\n",
    "                'reserva_empresa',\n",
    "                'reserva_estacionamento',\n",
    "                'reserva_observacoes',\n",
    "                'reserva_cancelada']\n",
    "\n",
    "    chaves_dict = df1.columns\n",
    "    cols_new = dict(zip(chaves_dict,valores_dict))\n",
    "    df1 = df1.rename(columns=cols_new)\n",
    "    return df1    \n",
    "        \n",
    "        "
   ]
  },
  {
   "cell_type": "code",
   "execution_count": null,
   "id": "0d92b808",
   "metadata": {},
   "outputs": [],
   "source": []
  }
 ],
 "metadata": {
  "hide_input": false,
  "kernelspec": {
   "display_name": "Python 3 (ipykernel)",
   "language": "python",
   "name": "python3"
  },
  "language_info": {
   "codemirror_mode": {
    "name": "ipython",
    "version": 3
   },
   "file_extension": ".py",
   "mimetype": "text/x-python",
   "name": "python",
   "nbconvert_exporter": "python",
   "pygments_lexer": "ipython3",
   "version": "3.10.11"
  },
  "varInspector": {
   "cols": {
    "lenName": 16,
    "lenType": 16,
    "lenVar": 40
   },
   "kernels_config": {
    "python": {
     "delete_cmd_postfix": "",
     "delete_cmd_prefix": "del ",
     "library": "var_list.py",
     "varRefreshCmd": "print(var_dic_list())"
    },
    "r": {
     "delete_cmd_postfix": ") ",
     "delete_cmd_prefix": "rm(",
     "library": "var_list.r",
     "varRefreshCmd": "cat(var_dic_list()) "
    }
   },
   "types_to_exclude": [
    "module",
    "function",
    "builtin_function_or_method",
    "instance",
    "_Feature"
   ],
   "window_display": false
  }
 },
 "nbformat": 4,
 "nbformat_minor": 5
}
